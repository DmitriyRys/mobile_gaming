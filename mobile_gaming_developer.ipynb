{
 "cells": [
  {
   "cell_type": "markdown",
   "id": "d27238f9",
   "metadata": {},
   "source": [
    "# Анализ данных разработчика мобильных игр.\n",
    "\n",
    "## Задачи.\n",
    "1. Написать функцию для подсчета Retention по дням от даты регистрации игрока.\n",
    "2. На основе имеющихся данных A/B тестирования наборов акционных предложений нужно определить, какой набор можно считать лучшим и на основе каких метрик стоит принять правильное решение.\n",
    "3. Предложить метрики для оценки результатов последнего прошедшего тематического события в игре."
   ]
  },
  {
   "cell_type": "code",
   "execution_count": 1,
   "id": "72f79e25",
   "metadata": {},
   "outputs": [],
   "source": [
    "# Импортируем необходимые библиотеки\n",
    "\n",
    "import pandas as pd\n",
    "import numpy as np\n",
    "import seaborn as sns\n",
    "import matplotlib.pyplot as plt\n",
    "import datetime\n",
    "import scipy.stats as ss\n",
    "import pingouin as pg\n",
    "from tqdm import tqdm"
   ]
  },
  {
   "cell_type": "markdown",
   "id": "b57904b7",
   "metadata": {},
   "source": [
    "# 1. Функция для подсчета Retention."
   ]
  },
  {
   "cell_type": "code",
   "execution_count": 2,
   "id": "f8d2d9f8",
   "metadata": {},
   "outputs": [],
   "source": [
    "# Подгрузим данные по регистрациям\n",
    "\n",
    "reg_path = 'https://getfile.dokpub.com/yandex/get/https://disk.yandex.ru/d/IXfIB4XcJVjTBA'"
   ]
  },
  {
   "cell_type": "code",
   "execution_count": 3,
   "id": "25bed62d",
   "metadata": {},
   "outputs": [],
   "source": [
    "reg = pd.read_csv(reg_path, sep=';')"
   ]
  },
  {
   "cell_type": "code",
   "execution_count": 4,
   "id": "f468591f",
   "metadata": {},
   "outputs": [
    {
     "data": {
      "text/html": [
       "<div>\n",
       "<style scoped>\n",
       "    .dataframe tbody tr th:only-of-type {\n",
       "        vertical-align: middle;\n",
       "    }\n",
       "\n",
       "    .dataframe tbody tr th {\n",
       "        vertical-align: top;\n",
       "    }\n",
       "\n",
       "    .dataframe thead th {\n",
       "        text-align: right;\n",
       "    }\n",
       "</style>\n",
       "<table border=\"1\" class=\"dataframe\">\n",
       "  <thead>\n",
       "    <tr style=\"text-align: right;\">\n",
       "      <th></th>\n",
       "      <th>reg_ts</th>\n",
       "      <th>uid</th>\n",
       "    </tr>\n",
       "  </thead>\n",
       "  <tbody>\n",
       "    <tr>\n",
       "      <th>0</th>\n",
       "      <td>911382223</td>\n",
       "      <td>1</td>\n",
       "    </tr>\n",
       "    <tr>\n",
       "      <th>1</th>\n",
       "      <td>932683089</td>\n",
       "      <td>2</td>\n",
       "    </tr>\n",
       "    <tr>\n",
       "      <th>2</th>\n",
       "      <td>947802447</td>\n",
       "      <td>3</td>\n",
       "    </tr>\n",
       "    <tr>\n",
       "      <th>3</th>\n",
       "      <td>959523541</td>\n",
       "      <td>4</td>\n",
       "    </tr>\n",
       "    <tr>\n",
       "      <th>4</th>\n",
       "      <td>969103313</td>\n",
       "      <td>5</td>\n",
       "    </tr>\n",
       "  </tbody>\n",
       "</table>\n",
       "</div>"
      ],
      "text/plain": [
       "      reg_ts  uid\n",
       "0  911382223    1\n",
       "1  932683089    2\n",
       "2  947802447    3\n",
       "3  959523541    4\n",
       "4  969103313    5"
      ]
     },
     "execution_count": 4,
     "metadata": {},
     "output_type": "execute_result"
    }
   ],
   "source": [
    "reg.head()"
   ]
  },
  {
   "cell_type": "code",
   "execution_count": 5,
   "id": "b64a2d51",
   "metadata": {},
   "outputs": [
    {
     "name": "stdout",
     "output_type": "stream",
     "text": [
      "<class 'pandas.core.frame.DataFrame'>\n",
      "RangeIndex: 1000000 entries, 0 to 999999\n",
      "Data columns (total 2 columns):\n",
      " #   Column  Non-Null Count    Dtype\n",
      "---  ------  --------------    -----\n",
      " 0   reg_ts  1000000 non-null  int64\n",
      " 1   uid     1000000 non-null  int64\n",
      "dtypes: int64(2)\n",
      "memory usage: 15.3 MB\n"
     ]
    }
   ],
   "source": [
    "reg.info()"
   ]
  },
  {
   "cell_type": "code",
   "execution_count": 6,
   "id": "dec87d6f",
   "metadata": {},
   "outputs": [],
   "source": [
    "# Подгрузим данные по авторизациям\n",
    "\n",
    "auth_path = 'https://getfile.dokpub.com/yandex/get/https://disk.yandex.ru/d/iBTc5cYQStvm_w'"
   ]
  },
  {
   "cell_type": "code",
   "execution_count": 7,
   "id": "7bfd2acc",
   "metadata": {},
   "outputs": [],
   "source": [
    "auth = pd.read_csv(auth_path, sep=';')"
   ]
  },
  {
   "cell_type": "code",
   "execution_count": 8,
   "id": "c19052a8",
   "metadata": {},
   "outputs": [
    {
     "data": {
      "text/html": [
       "<div>\n",
       "<style scoped>\n",
       "    .dataframe tbody tr th:only-of-type {\n",
       "        vertical-align: middle;\n",
       "    }\n",
       "\n",
       "    .dataframe tbody tr th {\n",
       "        vertical-align: top;\n",
       "    }\n",
       "\n",
       "    .dataframe thead th {\n",
       "        text-align: right;\n",
       "    }\n",
       "</style>\n",
       "<table border=\"1\" class=\"dataframe\">\n",
       "  <thead>\n",
       "    <tr style=\"text-align: right;\">\n",
       "      <th></th>\n",
       "      <th>auth_ts</th>\n",
       "      <th>uid</th>\n",
       "    </tr>\n",
       "  </thead>\n",
       "  <tbody>\n",
       "    <tr>\n",
       "      <th>0</th>\n",
       "      <td>911382223</td>\n",
       "      <td>1</td>\n",
       "    </tr>\n",
       "    <tr>\n",
       "      <th>1</th>\n",
       "      <td>932683089</td>\n",
       "      <td>2</td>\n",
       "    </tr>\n",
       "    <tr>\n",
       "      <th>2</th>\n",
       "      <td>932921206</td>\n",
       "      <td>2</td>\n",
       "    </tr>\n",
       "    <tr>\n",
       "      <th>3</th>\n",
       "      <td>933393015</td>\n",
       "      <td>2</td>\n",
       "    </tr>\n",
       "    <tr>\n",
       "      <th>4</th>\n",
       "      <td>933875379</td>\n",
       "      <td>2</td>\n",
       "    </tr>\n",
       "  </tbody>\n",
       "</table>\n",
       "</div>"
      ],
      "text/plain": [
       "     auth_ts  uid\n",
       "0  911382223    1\n",
       "1  932683089    2\n",
       "2  932921206    2\n",
       "3  933393015    2\n",
       "4  933875379    2"
      ]
     },
     "execution_count": 8,
     "metadata": {},
     "output_type": "execute_result"
    }
   ],
   "source": [
    "auth.head()"
   ]
  },
  {
   "cell_type": "code",
   "execution_count": 9,
   "id": "a2ed5a00",
   "metadata": {},
   "outputs": [
    {
     "name": "stdout",
     "output_type": "stream",
     "text": [
      "<class 'pandas.core.frame.DataFrame'>\n",
      "RangeIndex: 9601013 entries, 0 to 9601012\n",
      "Data columns (total 2 columns):\n",
      " #   Column   Dtype\n",
      "---  ------   -----\n",
      " 0   auth_ts  int64\n",
      " 1   uid      int64\n",
      "dtypes: int64(2)\n",
      "memory usage: 146.5 MB\n"
     ]
    }
   ],
   "source": [
    "auth.info()"
   ]
  },
  {
   "cell_type": "markdown",
   "id": "41c7ee57",
   "metadata": {},
   "source": [
    "Создадим 3 функции для разных целей:\n",
    "1. Пользователь задает способ расчета, период регистраций и день Retention. Функция возвращает среднее значение Retention для заданных параметров.\n",
    "2. Пользователь задает способ расчета, период регистраций и временной отрезок для Retention. Функция возвращает график с динамикой за выбранный период.\n",
    "3. Пользователь задает способ расчета, период регистраций и временной отрезок для Retention. Функция возвращает когортный анализ Retention.\n",
    "\n",
    "Общий план работы функций:\n",
    "1. Объединить 2 аргумента (датафрейма).\n",
    "2. Завести колонку с кол-вом прошедших дней с даты регистрации. \n",
    "3. Преобразовать данные в финальную таблицу в зависимости от типа задачи.\n",
    "4. Извлечь из таблицы необходимые данные и/или визуализировать.\n",
    "\n",
    "Сначала проверим код для каждого этапа на небольших выборках, затем соберем функции."
   ]
  },
  {
   "cell_type": "code",
   "execution_count": 10,
   "id": "744221b8",
   "metadata": {},
   "outputs": [],
   "source": [
    "# Объединим данные\n",
    "\n",
    "r_df = auth.merge(reg, on='uid')"
   ]
  },
  {
   "cell_type": "markdown",
   "id": "29346672",
   "metadata": {},
   "source": [
    "Из множества видов выберем классический N-Day Retention, т.к. он наиболее распространен и универсален, а мобильные игры предполагают, в основном, короткие партии, различные поощрения за вход в игру и/или действия в ней, чтобы пользователи заходили каждый день, хотя бы на короткий промежуток времени, поэтому именно этот вариант нам подходит лучше всего. При наличии возможности собрать требования, можно было бы также предложить Return Retention.\n",
    "\n",
    "Рассчитывать будем 2мя способами:\n",
    "1. Календарным: перевести время из UNIX в обычный формат и смотреть по датам, сколько дней прошло.\n",
    "2. На основе окон в 24 часа: оставить текущий формат и отсчитывать по 24 часа.\n",
    "\n",
    "Когорты будем смотреть по дням, т.к. функции нужны для частого использования. В некоторых ситуациях может быть правильней делить пользователей по неделям или месяцам, например, когда идут какие-то акции, внутриигровые события, тестируется новый патч, и мы хотим видеть их влияние на Retention, но для таких временных горизонтов большого смысла писать функции нет, несколько раз в год можно корректировать код под каждую ситуацию и различные задачи."
   ]
  },
  {
   "cell_type": "code",
   "execution_count": 11,
   "id": "957a458c",
   "metadata": {},
   "outputs": [],
   "source": [
    "# Календарный расчет\n",
    "\n",
    "# Создадим тестовый ДФ меньшего объема\n",
    "\n",
    "calendar = r_df.head(100000).copy()"
   ]
  },
  {
   "cell_type": "code",
   "execution_count": 12,
   "id": "db46cd15",
   "metadata": {},
   "outputs": [
    {
     "data": {
      "text/html": [
       "<div>\n",
       "<style scoped>\n",
       "    .dataframe tbody tr th:only-of-type {\n",
       "        vertical-align: middle;\n",
       "    }\n",
       "\n",
       "    .dataframe tbody tr th {\n",
       "        vertical-align: top;\n",
       "    }\n",
       "\n",
       "    .dataframe thead th {\n",
       "        text-align: right;\n",
       "    }\n",
       "</style>\n",
       "<table border=\"1\" class=\"dataframe\">\n",
       "  <thead>\n",
       "    <tr style=\"text-align: right;\">\n",
       "      <th></th>\n",
       "      <th>auth_ts</th>\n",
       "      <th>uid</th>\n",
       "      <th>reg_ts</th>\n",
       "    </tr>\n",
       "  </thead>\n",
       "  <tbody>\n",
       "    <tr>\n",
       "      <th>0</th>\n",
       "      <td>911382223</td>\n",
       "      <td>1</td>\n",
       "      <td>911382223</td>\n",
       "    </tr>\n",
       "    <tr>\n",
       "      <th>1</th>\n",
       "      <td>932683089</td>\n",
       "      <td>2</td>\n",
       "      <td>932683089</td>\n",
       "    </tr>\n",
       "    <tr>\n",
       "      <th>2</th>\n",
       "      <td>932921206</td>\n",
       "      <td>2</td>\n",
       "      <td>932683089</td>\n",
       "    </tr>\n",
       "    <tr>\n",
       "      <th>3</th>\n",
       "      <td>933393015</td>\n",
       "      <td>2</td>\n",
       "      <td>932683089</td>\n",
       "    </tr>\n",
       "    <tr>\n",
       "      <th>4</th>\n",
       "      <td>933875379</td>\n",
       "      <td>2</td>\n",
       "      <td>932683089</td>\n",
       "    </tr>\n",
       "  </tbody>\n",
       "</table>\n",
       "</div>"
      ],
      "text/plain": [
       "     auth_ts  uid     reg_ts\n",
       "0  911382223    1  911382223\n",
       "1  932683089    2  932683089\n",
       "2  932921206    2  932683089\n",
       "3  933393015    2  932683089\n",
       "4  933875379    2  932683089"
      ]
     },
     "execution_count": 12,
     "metadata": {},
     "output_type": "execute_result"
    }
   ],
   "source": [
    "calendar.head()"
   ]
  },
  {
   "cell_type": "code",
   "execution_count": 13,
   "id": "0d0f4af0",
   "metadata": {},
   "outputs": [],
   "source": [
    "# Переведем время из UNIX в формат дат\n",
    "\n",
    "calendar.auth_ts = pd.to_datetime(calendar.auth_ts,\n",
    "                                  unit='s').dt.date\n",
    "calendar.reg_ts = pd.to_datetime(calendar.reg_ts,\n",
    "                                 unit='s').dt.date"
   ]
  },
  {
   "cell_type": "code",
   "execution_count": 14,
   "id": "392997af",
   "metadata": {},
   "outputs": [],
   "source": [
    "# Создадим колонку с кол-вом прошедших дней\n",
    "\n",
    "calendar['days_passed'] = (calendar.auth_ts \n",
    "                           - calendar.reg_ts).dt.days"
   ]
  },
  {
   "cell_type": "code",
   "execution_count": 15,
   "id": "15a11c1f",
   "metadata": {},
   "outputs": [
    {
     "data": {
      "text/html": [
       "<div>\n",
       "<style scoped>\n",
       "    .dataframe tbody tr th:only-of-type {\n",
       "        vertical-align: middle;\n",
       "    }\n",
       "\n",
       "    .dataframe tbody tr th {\n",
       "        vertical-align: top;\n",
       "    }\n",
       "\n",
       "    .dataframe thead th {\n",
       "        text-align: right;\n",
       "    }\n",
       "</style>\n",
       "<table border=\"1\" class=\"dataframe\">\n",
       "  <thead>\n",
       "    <tr style=\"text-align: right;\">\n",
       "      <th></th>\n",
       "      <th>auth_ts</th>\n",
       "      <th>uid</th>\n",
       "      <th>reg_ts</th>\n",
       "      <th>days_passed</th>\n",
       "    </tr>\n",
       "  </thead>\n",
       "  <tbody>\n",
       "    <tr>\n",
       "      <th>0</th>\n",
       "      <td>1998-11-18</td>\n",
       "      <td>1</td>\n",
       "      <td>1998-11-18</td>\n",
       "      <td>0</td>\n",
       "    </tr>\n",
       "    <tr>\n",
       "      <th>1</th>\n",
       "      <td>1999-07-22</td>\n",
       "      <td>2</td>\n",
       "      <td>1999-07-22</td>\n",
       "      <td>0</td>\n",
       "    </tr>\n",
       "    <tr>\n",
       "      <th>2</th>\n",
       "      <td>1999-07-25</td>\n",
       "      <td>2</td>\n",
       "      <td>1999-07-22</td>\n",
       "      <td>3</td>\n",
       "    </tr>\n",
       "    <tr>\n",
       "      <th>3</th>\n",
       "      <td>1999-07-31</td>\n",
       "      <td>2</td>\n",
       "      <td>1999-07-22</td>\n",
       "      <td>9</td>\n",
       "    </tr>\n",
       "    <tr>\n",
       "      <th>4</th>\n",
       "      <td>1999-08-05</td>\n",
       "      <td>2</td>\n",
       "      <td>1999-07-22</td>\n",
       "      <td>14</td>\n",
       "    </tr>\n",
       "  </tbody>\n",
       "</table>\n",
       "</div>"
      ],
      "text/plain": [
       "      auth_ts  uid      reg_ts  days_passed\n",
       "0  1998-11-18    1  1998-11-18            0\n",
       "1  1999-07-22    2  1999-07-22            0\n",
       "2  1999-07-25    2  1999-07-22            3\n",
       "3  1999-07-31    2  1999-07-22            9\n",
       "4  1999-08-05    2  1999-07-22           14"
      ]
     },
     "execution_count": 15,
     "metadata": {},
     "output_type": "execute_result"
    }
   ],
   "source": [
    "calendar.head()"
   ]
  },
  {
   "cell_type": "code",
   "execution_count": 16,
   "id": "3f9ceb46",
   "metadata": {},
   "outputs": [],
   "source": [
    "# Посчитаем, сколько пользователей вернулось на свой N-day\n",
    "\n",
    "calendar = calendar.groupby(['reg_ts', \n",
    "                             'days_passed'], \n",
    "                            as_index=False).uid.nunique()"
   ]
  },
  {
   "cell_type": "code",
   "execution_count": 17,
   "id": "3154d5d7",
   "metadata": {},
   "outputs": [
    {
     "data": {
      "text/html": [
       "<div>\n",
       "<style scoped>\n",
       "    .dataframe tbody tr th:only-of-type {\n",
       "        vertical-align: middle;\n",
       "    }\n",
       "\n",
       "    .dataframe tbody tr th {\n",
       "        vertical-align: top;\n",
       "    }\n",
       "\n",
       "    .dataframe thead th {\n",
       "        text-align: right;\n",
       "    }\n",
       "</style>\n",
       "<table border=\"1\" class=\"dataframe\">\n",
       "  <thead>\n",
       "    <tr style=\"text-align: right;\">\n",
       "      <th></th>\n",
       "      <th>reg_ts</th>\n",
       "      <th>days_passed</th>\n",
       "      <th>uid</th>\n",
       "    </tr>\n",
       "  </thead>\n",
       "  <tbody>\n",
       "    <tr>\n",
       "      <th>0</th>\n",
       "      <td>1998-11-18</td>\n",
       "      <td>0</td>\n",
       "      <td>1</td>\n",
       "    </tr>\n",
       "    <tr>\n",
       "      <th>1</th>\n",
       "      <td>1999-07-22</td>\n",
       "      <td>0</td>\n",
       "      <td>1</td>\n",
       "    </tr>\n",
       "    <tr>\n",
       "      <th>2</th>\n",
       "      <td>1999-07-22</td>\n",
       "      <td>3</td>\n",
       "      <td>1</td>\n",
       "    </tr>\n",
       "    <tr>\n",
       "      <th>3</th>\n",
       "      <td>1999-07-22</td>\n",
       "      <td>9</td>\n",
       "      <td>1</td>\n",
       "    </tr>\n",
       "    <tr>\n",
       "      <th>4</th>\n",
       "      <td>1999-07-22</td>\n",
       "      <td>14</td>\n",
       "      <td>1</td>\n",
       "    </tr>\n",
       "  </tbody>\n",
       "</table>\n",
       "</div>"
      ],
      "text/plain": [
       "       reg_ts  days_passed  uid\n",
       "0  1998-11-18            0    1\n",
       "1  1999-07-22            0    1\n",
       "2  1999-07-22            3    1\n",
       "3  1999-07-22            9    1\n",
       "4  1999-07-22           14    1"
      ]
     },
     "execution_count": 17,
     "metadata": {},
     "output_type": "execute_result"
    }
   ],
   "source": [
    "calendar.head()"
   ]
  },
  {
   "cell_type": "code",
   "execution_count": 18,
   "id": "8ff0db24",
   "metadata": {},
   "outputs": [],
   "source": [
    "# Разобьем пользователей на когорты, \n",
    "# покажем кол-во возвратов по дням\n",
    "\n",
    "cohorts_c = calendar.pivot(index='reg_ts', \n",
    "                           columns='days_passed', \n",
    "                           values='uid') \\\n",
    "                    .fillna(0) \\\n",
    "                    .astype(int)"
   ]
  },
  {
   "cell_type": "code",
   "execution_count": 19,
   "id": "e03aff75",
   "metadata": {},
   "outputs": [
    {
     "data": {
      "text/html": [
       "<div>\n",
       "<style scoped>\n",
       "    .dataframe tbody tr th:only-of-type {\n",
       "        vertical-align: middle;\n",
       "    }\n",
       "\n",
       "    .dataframe tbody tr th {\n",
       "        vertical-align: top;\n",
       "    }\n",
       "\n",
       "    .dataframe thead th {\n",
       "        text-align: right;\n",
       "    }\n",
       "</style>\n",
       "<table border=\"1\" class=\"dataframe\">\n",
       "  <thead>\n",
       "    <tr style=\"text-align: right;\">\n",
       "      <th>days_passed</th>\n",
       "      <th>0</th>\n",
       "      <th>1</th>\n",
       "      <th>2</th>\n",
       "      <th>3</th>\n",
       "      <th>4</th>\n",
       "      <th>5</th>\n",
       "      <th>6</th>\n",
       "      <th>7</th>\n",
       "      <th>8</th>\n",
       "      <th>9</th>\n",
       "      <th>...</th>\n",
       "      <th>7701</th>\n",
       "      <th>7704</th>\n",
       "      <th>7706</th>\n",
       "      <th>7709</th>\n",
       "      <th>7712</th>\n",
       "      <th>7716</th>\n",
       "      <th>7720</th>\n",
       "      <th>7721</th>\n",
       "      <th>7727</th>\n",
       "      <th>7729</th>\n",
       "    </tr>\n",
       "    <tr>\n",
       "      <th>reg_ts</th>\n",
       "      <th></th>\n",
       "      <th></th>\n",
       "      <th></th>\n",
       "      <th></th>\n",
       "      <th></th>\n",
       "      <th></th>\n",
       "      <th></th>\n",
       "      <th></th>\n",
       "      <th></th>\n",
       "      <th></th>\n",
       "      <th></th>\n",
       "      <th></th>\n",
       "      <th></th>\n",
       "      <th></th>\n",
       "      <th></th>\n",
       "      <th></th>\n",
       "      <th></th>\n",
       "      <th></th>\n",
       "      <th></th>\n",
       "      <th></th>\n",
       "      <th></th>\n",
       "    </tr>\n",
       "  </thead>\n",
       "  <tbody>\n",
       "    <tr>\n",
       "      <th>1998-11-18</th>\n",
       "      <td>1</td>\n",
       "      <td>0</td>\n",
       "      <td>0</td>\n",
       "      <td>0</td>\n",
       "      <td>0</td>\n",
       "      <td>0</td>\n",
       "      <td>0</td>\n",
       "      <td>0</td>\n",
       "      <td>0</td>\n",
       "      <td>0</td>\n",
       "      <td>...</td>\n",
       "      <td>0</td>\n",
       "      <td>0</td>\n",
       "      <td>0</td>\n",
       "      <td>0</td>\n",
       "      <td>0</td>\n",
       "      <td>0</td>\n",
       "      <td>0</td>\n",
       "      <td>0</td>\n",
       "      <td>0</td>\n",
       "      <td>0</td>\n",
       "    </tr>\n",
       "    <tr>\n",
       "      <th>1999-07-22</th>\n",
       "      <td>1</td>\n",
       "      <td>0</td>\n",
       "      <td>0</td>\n",
       "      <td>1</td>\n",
       "      <td>0</td>\n",
       "      <td>0</td>\n",
       "      <td>0</td>\n",
       "      <td>0</td>\n",
       "      <td>0</td>\n",
       "      <td>1</td>\n",
       "      <td>...</td>\n",
       "      <td>1</td>\n",
       "      <td>1</td>\n",
       "      <td>1</td>\n",
       "      <td>1</td>\n",
       "      <td>1</td>\n",
       "      <td>1</td>\n",
       "      <td>1</td>\n",
       "      <td>1</td>\n",
       "      <td>1</td>\n",
       "      <td>1</td>\n",
       "    </tr>\n",
       "    <tr>\n",
       "      <th>2000-01-13</th>\n",
       "      <td>1</td>\n",
       "      <td>0</td>\n",
       "      <td>0</td>\n",
       "      <td>0</td>\n",
       "      <td>0</td>\n",
       "      <td>0</td>\n",
       "      <td>0</td>\n",
       "      <td>0</td>\n",
       "      <td>0</td>\n",
       "      <td>0</td>\n",
       "      <td>...</td>\n",
       "      <td>0</td>\n",
       "      <td>0</td>\n",
       "      <td>0</td>\n",
       "      <td>0</td>\n",
       "      <td>0</td>\n",
       "      <td>0</td>\n",
       "      <td>0</td>\n",
       "      <td>0</td>\n",
       "      <td>0</td>\n",
       "      <td>0</td>\n",
       "    </tr>\n",
       "    <tr>\n",
       "      <th>2000-05-28</th>\n",
       "      <td>1</td>\n",
       "      <td>0</td>\n",
       "      <td>0</td>\n",
       "      <td>0</td>\n",
       "      <td>0</td>\n",
       "      <td>0</td>\n",
       "      <td>0</td>\n",
       "      <td>0</td>\n",
       "      <td>0</td>\n",
       "      <td>0</td>\n",
       "      <td>...</td>\n",
       "      <td>0</td>\n",
       "      <td>0</td>\n",
       "      <td>0</td>\n",
       "      <td>0</td>\n",
       "      <td>0</td>\n",
       "      <td>0</td>\n",
       "      <td>0</td>\n",
       "      <td>0</td>\n",
       "      <td>0</td>\n",
       "      <td>0</td>\n",
       "    </tr>\n",
       "    <tr>\n",
       "      <th>2000-09-16</th>\n",
       "      <td>1</td>\n",
       "      <td>0</td>\n",
       "      <td>0</td>\n",
       "      <td>0</td>\n",
       "      <td>0</td>\n",
       "      <td>0</td>\n",
       "      <td>0</td>\n",
       "      <td>0</td>\n",
       "      <td>0</td>\n",
       "      <td>0</td>\n",
       "      <td>...</td>\n",
       "      <td>0</td>\n",
       "      <td>0</td>\n",
       "      <td>0</td>\n",
       "      <td>0</td>\n",
       "      <td>0</td>\n",
       "      <td>0</td>\n",
       "      <td>0</td>\n",
       "      <td>0</td>\n",
       "      <td>0</td>\n",
       "      <td>0</td>\n",
       "    </tr>\n",
       "  </tbody>\n",
       "</table>\n",
       "<p>5 rows × 5916 columns</p>\n",
       "</div>"
      ],
      "text/plain": [
       "days_passed  0     1     2     3     4     5     6     7     8     9     ...  \\\n",
       "reg_ts                                                                   ...   \n",
       "1998-11-18      1     0     0     0     0     0     0     0     0     0  ...   \n",
       "1999-07-22      1     0     0     1     0     0     0     0     0     1  ...   \n",
       "2000-01-13      1     0     0     0     0     0     0     0     0     0  ...   \n",
       "2000-05-28      1     0     0     0     0     0     0     0     0     0  ...   \n",
       "2000-09-16      1     0     0     0     0     0     0     0     0     0  ...   \n",
       "\n",
       "days_passed  7701  7704  7706  7709  7712  7716  7720  7721  7727  7729  \n",
       "reg_ts                                                                   \n",
       "1998-11-18      0     0     0     0     0     0     0     0     0     0  \n",
       "1999-07-22      1     1     1     1     1     1     1     1     1     1  \n",
       "2000-01-13      0     0     0     0     0     0     0     0     0     0  \n",
       "2000-05-28      0     0     0     0     0     0     0     0     0     0  \n",
       "2000-09-16      0     0     0     0     0     0     0     0     0     0  \n",
       "\n",
       "[5 rows x 5916 columns]"
      ]
     },
     "execution_count": 19,
     "metadata": {},
     "output_type": "execute_result"
    }
   ],
   "source": [
    "cohorts_c.head()"
   ]
  },
  {
   "cell_type": "markdown",
   "id": "4e73589d",
   "metadata": {},
   "source": [
    "На основе этого ДФа можно получить все необходимые нам данные для расчета календарным путем.\n",
    "\n",
    "Создадим ДФ для расчета по 24-часовым окнам."
   ]
  },
  {
   "cell_type": "code",
   "execution_count": 20,
   "id": "d371c776",
   "metadata": {},
   "outputs": [],
   "source": [
    "# Расчет по окнам\n",
    "\n",
    "window = r_df.head(100000).copy()"
   ]
  },
  {
   "cell_type": "code",
   "execution_count": 21,
   "id": "30a755b1",
   "metadata": {},
   "outputs": [
    {
     "data": {
      "text/html": [
       "<div>\n",
       "<style scoped>\n",
       "    .dataframe tbody tr th:only-of-type {\n",
       "        vertical-align: middle;\n",
       "    }\n",
       "\n",
       "    .dataframe tbody tr th {\n",
       "        vertical-align: top;\n",
       "    }\n",
       "\n",
       "    .dataframe thead th {\n",
       "        text-align: right;\n",
       "    }\n",
       "</style>\n",
       "<table border=\"1\" class=\"dataframe\">\n",
       "  <thead>\n",
       "    <tr style=\"text-align: right;\">\n",
       "      <th></th>\n",
       "      <th>auth_ts</th>\n",
       "      <th>uid</th>\n",
       "      <th>reg_ts</th>\n",
       "    </tr>\n",
       "  </thead>\n",
       "  <tbody>\n",
       "    <tr>\n",
       "      <th>0</th>\n",
       "      <td>911382223</td>\n",
       "      <td>1</td>\n",
       "      <td>911382223</td>\n",
       "    </tr>\n",
       "    <tr>\n",
       "      <th>1</th>\n",
       "      <td>932683089</td>\n",
       "      <td>2</td>\n",
       "      <td>932683089</td>\n",
       "    </tr>\n",
       "    <tr>\n",
       "      <th>2</th>\n",
       "      <td>932921206</td>\n",
       "      <td>2</td>\n",
       "      <td>932683089</td>\n",
       "    </tr>\n",
       "    <tr>\n",
       "      <th>3</th>\n",
       "      <td>933393015</td>\n",
       "      <td>2</td>\n",
       "      <td>932683089</td>\n",
       "    </tr>\n",
       "    <tr>\n",
       "      <th>4</th>\n",
       "      <td>933875379</td>\n",
       "      <td>2</td>\n",
       "      <td>932683089</td>\n",
       "    </tr>\n",
       "  </tbody>\n",
       "</table>\n",
       "</div>"
      ],
      "text/plain": [
       "     auth_ts  uid     reg_ts\n",
       "0  911382223    1  911382223\n",
       "1  932683089    2  932683089\n",
       "2  932921206    2  932683089\n",
       "3  933393015    2  932683089\n",
       "4  933875379    2  932683089"
      ]
     },
     "execution_count": 21,
     "metadata": {},
     "output_type": "execute_result"
    }
   ],
   "source": [
    "window.head()"
   ]
  },
  {
   "cell_type": "code",
   "execution_count": 22,
   "id": "9b3f0d08",
   "metadata": {},
   "outputs": [],
   "source": [
    "# Сохраним размер окна в переменную\n",
    "\n",
    "secs_in_day = 24 * 60 * 60"
   ]
  },
  {
   "cell_type": "code",
   "execution_count": 23,
   "id": "0d0f0c5a",
   "metadata": {},
   "outputs": [],
   "source": [
    "# Создадим колонку с кол-вом прошедших окон\n",
    "\n",
    "window['days_passed'] = (window.auth_ts \n",
    "                         - window.reg_ts) \\\n",
    "                            // secs_in_day"
   ]
  },
  {
   "cell_type": "code",
   "execution_count": 24,
   "id": "afb46902",
   "metadata": {},
   "outputs": [
    {
     "data": {
      "text/html": [
       "<div>\n",
       "<style scoped>\n",
       "    .dataframe tbody tr th:only-of-type {\n",
       "        vertical-align: middle;\n",
       "    }\n",
       "\n",
       "    .dataframe tbody tr th {\n",
       "        vertical-align: top;\n",
       "    }\n",
       "\n",
       "    .dataframe thead th {\n",
       "        text-align: right;\n",
       "    }\n",
       "</style>\n",
       "<table border=\"1\" class=\"dataframe\">\n",
       "  <thead>\n",
       "    <tr style=\"text-align: right;\">\n",
       "      <th></th>\n",
       "      <th>auth_ts</th>\n",
       "      <th>uid</th>\n",
       "      <th>reg_ts</th>\n",
       "      <th>days_passed</th>\n",
       "    </tr>\n",
       "  </thead>\n",
       "  <tbody>\n",
       "    <tr>\n",
       "      <th>0</th>\n",
       "      <td>911382223</td>\n",
       "      <td>1</td>\n",
       "      <td>911382223</td>\n",
       "      <td>0</td>\n",
       "    </tr>\n",
       "    <tr>\n",
       "      <th>1</th>\n",
       "      <td>932683089</td>\n",
       "      <td>2</td>\n",
       "      <td>932683089</td>\n",
       "      <td>0</td>\n",
       "    </tr>\n",
       "    <tr>\n",
       "      <th>2</th>\n",
       "      <td>932921206</td>\n",
       "      <td>2</td>\n",
       "      <td>932683089</td>\n",
       "      <td>2</td>\n",
       "    </tr>\n",
       "    <tr>\n",
       "      <th>3</th>\n",
       "      <td>933393015</td>\n",
       "      <td>2</td>\n",
       "      <td>932683089</td>\n",
       "      <td>8</td>\n",
       "    </tr>\n",
       "    <tr>\n",
       "      <th>4</th>\n",
       "      <td>933875379</td>\n",
       "      <td>2</td>\n",
       "      <td>932683089</td>\n",
       "      <td>13</td>\n",
       "    </tr>\n",
       "  </tbody>\n",
       "</table>\n",
       "</div>"
      ],
      "text/plain": [
       "     auth_ts  uid     reg_ts  days_passed\n",
       "0  911382223    1  911382223            0\n",
       "1  932683089    2  932683089            0\n",
       "2  932921206    2  932683089            2\n",
       "3  933393015    2  932683089            8\n",
       "4  933875379    2  932683089           13"
      ]
     },
     "execution_count": 24,
     "metadata": {},
     "output_type": "execute_result"
    }
   ],
   "source": [
    "window.head()"
   ]
  },
  {
   "cell_type": "code",
   "execution_count": 25,
   "id": "ad850757",
   "metadata": {},
   "outputs": [],
   "source": [
    "# Переведем время регистрации из UNIX в формат дат\n",
    "\n",
    "window.reg_ts = pd.to_datetime(window.reg_ts,\n",
    "                               unit='s').dt.date"
   ]
  },
  {
   "cell_type": "code",
   "execution_count": 26,
   "id": "79abdc8a",
   "metadata": {},
   "outputs": [],
   "source": [
    "# Посчитаем, сколько пользователей вернулось на свой N-day\n",
    "\n",
    "window = window.groupby(['reg_ts', \n",
    "                         'days_passed'], \n",
    "                        as_index=False).uid.nunique()"
   ]
  },
  {
   "cell_type": "code",
   "execution_count": 27,
   "id": "d0ce2d9a",
   "metadata": {},
   "outputs": [
    {
     "data": {
      "text/html": [
       "<div>\n",
       "<style scoped>\n",
       "    .dataframe tbody tr th:only-of-type {\n",
       "        vertical-align: middle;\n",
       "    }\n",
       "\n",
       "    .dataframe tbody tr th {\n",
       "        vertical-align: top;\n",
       "    }\n",
       "\n",
       "    .dataframe thead th {\n",
       "        text-align: right;\n",
       "    }\n",
       "</style>\n",
       "<table border=\"1\" class=\"dataframe\">\n",
       "  <thead>\n",
       "    <tr style=\"text-align: right;\">\n",
       "      <th></th>\n",
       "      <th>reg_ts</th>\n",
       "      <th>days_passed</th>\n",
       "      <th>uid</th>\n",
       "    </tr>\n",
       "  </thead>\n",
       "  <tbody>\n",
       "    <tr>\n",
       "      <th>0</th>\n",
       "      <td>1998-11-18</td>\n",
       "      <td>0</td>\n",
       "      <td>1</td>\n",
       "    </tr>\n",
       "    <tr>\n",
       "      <th>1</th>\n",
       "      <td>1999-07-22</td>\n",
       "      <td>0</td>\n",
       "      <td>1</td>\n",
       "    </tr>\n",
       "    <tr>\n",
       "      <th>2</th>\n",
       "      <td>1999-07-22</td>\n",
       "      <td>2</td>\n",
       "      <td>1</td>\n",
       "    </tr>\n",
       "    <tr>\n",
       "      <th>3</th>\n",
       "      <td>1999-07-22</td>\n",
       "      <td>8</td>\n",
       "      <td>1</td>\n",
       "    </tr>\n",
       "    <tr>\n",
       "      <th>4</th>\n",
       "      <td>1999-07-22</td>\n",
       "      <td>13</td>\n",
       "      <td>1</td>\n",
       "    </tr>\n",
       "  </tbody>\n",
       "</table>\n",
       "</div>"
      ],
      "text/plain": [
       "       reg_ts  days_passed  uid\n",
       "0  1998-11-18            0    1\n",
       "1  1999-07-22            0    1\n",
       "2  1999-07-22            2    1\n",
       "3  1999-07-22            8    1\n",
       "4  1999-07-22           13    1"
      ]
     },
     "execution_count": 27,
     "metadata": {},
     "output_type": "execute_result"
    }
   ],
   "source": [
    "window.head()"
   ]
  },
  {
   "cell_type": "code",
   "execution_count": 28,
   "id": "c8bf848d",
   "metadata": {},
   "outputs": [],
   "source": [
    "# Разобьем пользователей на когорты, \n",
    "# покажем кол-во возвратов по дням\n",
    "\n",
    "cohorts_w = window.pivot(index='reg_ts', \n",
    "                         columns='days_passed', \n",
    "                         values='uid') \\\n",
    "                  .fillna(0) \\\n",
    "                  .astype(int)"
   ]
  },
  {
   "cell_type": "code",
   "execution_count": 29,
   "id": "0c91df69",
   "metadata": {
    "scrolled": true
   },
   "outputs": [
    {
     "data": {
      "text/html": [
       "<div>\n",
       "<style scoped>\n",
       "    .dataframe tbody tr th:only-of-type {\n",
       "        vertical-align: middle;\n",
       "    }\n",
       "\n",
       "    .dataframe tbody tr th {\n",
       "        vertical-align: top;\n",
       "    }\n",
       "\n",
       "    .dataframe thead th {\n",
       "        text-align: right;\n",
       "    }\n",
       "</style>\n",
       "<table border=\"1\" class=\"dataframe\">\n",
       "  <thead>\n",
       "    <tr style=\"text-align: right;\">\n",
       "      <th>days_passed</th>\n",
       "      <th>0</th>\n",
       "      <th>1</th>\n",
       "      <th>2</th>\n",
       "      <th>3</th>\n",
       "      <th>4</th>\n",
       "      <th>5</th>\n",
       "      <th>6</th>\n",
       "      <th>7</th>\n",
       "      <th>8</th>\n",
       "      <th>9</th>\n",
       "      <th>...</th>\n",
       "      <th>7700</th>\n",
       "      <th>7703</th>\n",
       "      <th>7705</th>\n",
       "      <th>7708</th>\n",
       "      <th>7711</th>\n",
       "      <th>7715</th>\n",
       "      <th>7719</th>\n",
       "      <th>7720</th>\n",
       "      <th>7726</th>\n",
       "      <th>7728</th>\n",
       "    </tr>\n",
       "    <tr>\n",
       "      <th>reg_ts</th>\n",
       "      <th></th>\n",
       "      <th></th>\n",
       "      <th></th>\n",
       "      <th></th>\n",
       "      <th></th>\n",
       "      <th></th>\n",
       "      <th></th>\n",
       "      <th></th>\n",
       "      <th></th>\n",
       "      <th></th>\n",
       "      <th></th>\n",
       "      <th></th>\n",
       "      <th></th>\n",
       "      <th></th>\n",
       "      <th></th>\n",
       "      <th></th>\n",
       "      <th></th>\n",
       "      <th></th>\n",
       "      <th></th>\n",
       "      <th></th>\n",
       "      <th></th>\n",
       "    </tr>\n",
       "  </thead>\n",
       "  <tbody>\n",
       "    <tr>\n",
       "      <th>1998-11-18</th>\n",
       "      <td>1</td>\n",
       "      <td>0</td>\n",
       "      <td>0</td>\n",
       "      <td>0</td>\n",
       "      <td>0</td>\n",
       "      <td>0</td>\n",
       "      <td>0</td>\n",
       "      <td>0</td>\n",
       "      <td>0</td>\n",
       "      <td>0</td>\n",
       "      <td>...</td>\n",
       "      <td>0</td>\n",
       "      <td>0</td>\n",
       "      <td>0</td>\n",
       "      <td>0</td>\n",
       "      <td>0</td>\n",
       "      <td>0</td>\n",
       "      <td>0</td>\n",
       "      <td>0</td>\n",
       "      <td>0</td>\n",
       "      <td>0</td>\n",
       "    </tr>\n",
       "    <tr>\n",
       "      <th>1999-07-22</th>\n",
       "      <td>1</td>\n",
       "      <td>0</td>\n",
       "      <td>1</td>\n",
       "      <td>0</td>\n",
       "      <td>0</td>\n",
       "      <td>0</td>\n",
       "      <td>0</td>\n",
       "      <td>0</td>\n",
       "      <td>1</td>\n",
       "      <td>0</td>\n",
       "      <td>...</td>\n",
       "      <td>1</td>\n",
       "      <td>1</td>\n",
       "      <td>1</td>\n",
       "      <td>1</td>\n",
       "      <td>1</td>\n",
       "      <td>1</td>\n",
       "      <td>1</td>\n",
       "      <td>1</td>\n",
       "      <td>1</td>\n",
       "      <td>1</td>\n",
       "    </tr>\n",
       "    <tr>\n",
       "      <th>2000-01-13</th>\n",
       "      <td>1</td>\n",
       "      <td>0</td>\n",
       "      <td>0</td>\n",
       "      <td>0</td>\n",
       "      <td>0</td>\n",
       "      <td>0</td>\n",
       "      <td>0</td>\n",
       "      <td>0</td>\n",
       "      <td>0</td>\n",
       "      <td>0</td>\n",
       "      <td>...</td>\n",
       "      <td>0</td>\n",
       "      <td>0</td>\n",
       "      <td>0</td>\n",
       "      <td>0</td>\n",
       "      <td>0</td>\n",
       "      <td>0</td>\n",
       "      <td>0</td>\n",
       "      <td>0</td>\n",
       "      <td>0</td>\n",
       "      <td>0</td>\n",
       "    </tr>\n",
       "    <tr>\n",
       "      <th>2000-05-28</th>\n",
       "      <td>1</td>\n",
       "      <td>0</td>\n",
       "      <td>0</td>\n",
       "      <td>0</td>\n",
       "      <td>0</td>\n",
       "      <td>0</td>\n",
       "      <td>0</td>\n",
       "      <td>0</td>\n",
       "      <td>0</td>\n",
       "      <td>0</td>\n",
       "      <td>...</td>\n",
       "      <td>0</td>\n",
       "      <td>0</td>\n",
       "      <td>0</td>\n",
       "      <td>0</td>\n",
       "      <td>0</td>\n",
       "      <td>0</td>\n",
       "      <td>0</td>\n",
       "      <td>0</td>\n",
       "      <td>0</td>\n",
       "      <td>0</td>\n",
       "    </tr>\n",
       "    <tr>\n",
       "      <th>2000-09-16</th>\n",
       "      <td>1</td>\n",
       "      <td>0</td>\n",
       "      <td>0</td>\n",
       "      <td>0</td>\n",
       "      <td>0</td>\n",
       "      <td>0</td>\n",
       "      <td>0</td>\n",
       "      <td>0</td>\n",
       "      <td>0</td>\n",
       "      <td>0</td>\n",
       "      <td>...</td>\n",
       "      <td>0</td>\n",
       "      <td>0</td>\n",
       "      <td>0</td>\n",
       "      <td>0</td>\n",
       "      <td>0</td>\n",
       "      <td>0</td>\n",
       "      <td>0</td>\n",
       "      <td>0</td>\n",
       "      <td>0</td>\n",
       "      <td>0</td>\n",
       "    </tr>\n",
       "  </tbody>\n",
       "</table>\n",
       "<p>5 rows × 5916 columns</p>\n",
       "</div>"
      ],
      "text/plain": [
       "days_passed  0     1     2     3     4     5     6     7     8     9     ...  \\\n",
       "reg_ts                                                                   ...   \n",
       "1998-11-18      1     0     0     0     0     0     0     0     0     0  ...   \n",
       "1999-07-22      1     0     1     0     0     0     0     0     1     0  ...   \n",
       "2000-01-13      1     0     0     0     0     0     0     0     0     0  ...   \n",
       "2000-05-28      1     0     0     0     0     0     0     0     0     0  ...   \n",
       "2000-09-16      1     0     0     0     0     0     0     0     0     0  ...   \n",
       "\n",
       "days_passed  7700  7703  7705  7708  7711  7715  7719  7720  7726  7728  \n",
       "reg_ts                                                                   \n",
       "1998-11-18      0     0     0     0     0     0     0     0     0     0  \n",
       "1999-07-22      1     1     1     1     1     1     1     1     1     1  \n",
       "2000-01-13      0     0     0     0     0     0     0     0     0     0  \n",
       "2000-05-28      0     0     0     0     0     0     0     0     0     0  \n",
       "2000-09-16      0     0     0     0     0     0     0     0     0     0  \n",
       "\n",
       "[5 rows x 5916 columns]"
      ]
     },
     "execution_count": 29,
     "metadata": {},
     "output_type": "execute_result"
    }
   ],
   "source": [
    "cohorts_w.head()"
   ]
  },
  {
   "cell_type": "markdown",
   "id": "96a45683",
   "metadata": {},
   "source": [
    "Теперь, когда исходные данные готовы, пройдем по функциям, которые хотим реализовать.\n",
    "\n",
    "Чтобы не повторяться, все задачи будем выполнять на календарном ДФе.\n",
    "\n",
    "Решим следующие задачи для самопроверки:\n",
    "1. Retention 7 дня для пользователей, зарегистрировавшихся в 2002 году.\n",
    "2. График Retention первой 1й недели для пользователей, зарегистрировавшихся в 2003 году.\n",
    "3. Для пользователей, зарегистрировавшихся в последнем квартале 2004 года, показать когорты и Retention первых 2х недель."
   ]
  },
  {
   "cell_type": "code",
   "execution_count": 30,
   "id": "5b4cf714",
   "metadata": {},
   "outputs": [],
   "source": [
    "# Retention 7го дня\n",
    "\n",
    "# За сегодняшнюю дату возьмем последнюю из ДФа\n",
    "\n",
    "today = pd.to_datetime(r_df.head(100000).auth_ts.max(), \n",
    "                       unit='s').date()"
   ]
  },
  {
   "cell_type": "markdown",
   "id": "a876f6f4",
   "metadata": {},
   "source": [
    "При расчете среднего Retention и визуализации его динамики по дням будем брать только те когорты, у которых физически мог наступить N-Day, в противном случае при расчетах мы будем учитывать разные наборы когорт для разных дней и/или учитывать нулевые значения, которых нет и быть не могло."
   ]
  },
  {
   "cell_type": "code",
   "execution_count": 31,
   "id": "7e414565",
   "metadata": {},
   "outputs": [],
   "source": [
    "# Уберем когорты, у которых еще не прошло 7 дней,\n",
    "# оставим регистрации только за 2002 год\n",
    "\n",
    "day_7 = cohorts_c.copy()[((today - cohorts_c.index) >= '7 days') \n",
    "                         & ((cohorts_c.index < datetime.date(2003, 1, 1)) \n",
    "                         & (cohorts_c.index > datetime.date(2001, 12, 31)))]"
   ]
  },
  {
   "cell_type": "code",
   "execution_count": 32,
   "id": "c6f024ca",
   "metadata": {},
   "outputs": [
    {
     "data": {
      "text/plain": [
       "20.0"
      ]
     },
     "execution_count": 32,
     "metadata": {},
     "output_type": "execute_result"
    }
   ],
   "source": [
    "# Посчитаем Retention\n",
    "\n",
    "((day_7[7].sum() / day_7[0].sum()) * 100).round(1)"
   ]
  },
  {
   "cell_type": "markdown",
   "id": "8515891c",
   "metadata": {},
   "source": [
    "В урезанном ДФе Retention 7 дня для пользователей, зарегистрировавшихся в 2002 году, равен 20%."
   ]
  },
  {
   "cell_type": "code",
   "execution_count": 33,
   "id": "d39d8a77",
   "metadata": {},
   "outputs": [],
   "source": [
    "# График Retention первой недели\n",
    "\n",
    "# Уберем когорты, у которых не прошло недели,\n",
    "# Оставим регистрации за 2003 год\n",
    "\n",
    "week_1 = cohorts_c.copy()[((today - cohorts_c.index) >= '7 days') \n",
    "                          & ((cohorts_c.index < datetime.date(2004, 1, 1)) \n",
    "                          & (cohorts_c.index > datetime.date(2002, 12, 31)))]"
   ]
  },
  {
   "cell_type": "code",
   "execution_count": 34,
   "id": "30d3a6a1",
   "metadata": {},
   "outputs": [],
   "source": [
    "# Создадим список со значениями Retention,\n",
    "# зададим отрезок времени,\n",
    "# посчитаем Retention для каждого дня\n",
    "\n",
    "r_results = []\n",
    "days = 7\n",
    "\n",
    "for i in range(days + 1):\n",
    "    r = ((week_1[i].sum() / week_1[0].sum()) * 100).round(1)\n",
    "    r_results.append(r)"
   ]
  },
  {
   "cell_type": "code",
   "execution_count": 35,
   "id": "e9f711b9",
   "metadata": {},
   "outputs": [],
   "source": [
    "# Создадим список с днями\n",
    "\n",
    "r_days = list(range(days + 1))"
   ]
  },
  {
   "cell_type": "code",
   "execution_count": 36,
   "id": "e2920511",
   "metadata": {},
   "outputs": [],
   "source": [
    "# Соберем ДФ\n",
    "\n",
    "r_graph = pd.DataFrame({'n_day': r_days,\n",
    "                        'retention': r_results})"
   ]
  },
  {
   "cell_type": "code",
   "execution_count": 37,
   "id": "2a91687e",
   "metadata": {},
   "outputs": [
    {
     "data": {
      "text/html": [
       "<div>\n",
       "<style scoped>\n",
       "    .dataframe tbody tr th:only-of-type {\n",
       "        vertical-align: middle;\n",
       "    }\n",
       "\n",
       "    .dataframe tbody tr th {\n",
       "        vertical-align: top;\n",
       "    }\n",
       "\n",
       "    .dataframe thead th {\n",
       "        text-align: right;\n",
       "    }\n",
       "</style>\n",
       "<table border=\"1\" class=\"dataframe\">\n",
       "  <thead>\n",
       "    <tr style=\"text-align: right;\">\n",
       "      <th></th>\n",
       "      <th>n_day</th>\n",
       "      <th>retention</th>\n",
       "    </tr>\n",
       "  </thead>\n",
       "  <tbody>\n",
       "    <tr>\n",
       "      <th>0</th>\n",
       "      <td>0</td>\n",
       "      <td>100.0</td>\n",
       "    </tr>\n",
       "    <tr>\n",
       "      <th>1</th>\n",
       "      <td>1</td>\n",
       "      <td>0.0</td>\n",
       "    </tr>\n",
       "    <tr>\n",
       "      <th>2</th>\n",
       "      <td>2</td>\n",
       "      <td>5.0</td>\n",
       "    </tr>\n",
       "    <tr>\n",
       "      <th>3</th>\n",
       "      <td>3</td>\n",
       "      <td>10.0</td>\n",
       "    </tr>\n",
       "    <tr>\n",
       "      <th>4</th>\n",
       "      <td>4</td>\n",
       "      <td>5.0</td>\n",
       "    </tr>\n",
       "    <tr>\n",
       "      <th>5</th>\n",
       "      <td>5</td>\n",
       "      <td>0.0</td>\n",
       "    </tr>\n",
       "    <tr>\n",
       "      <th>6</th>\n",
       "      <td>6</td>\n",
       "      <td>10.0</td>\n",
       "    </tr>\n",
       "    <tr>\n",
       "      <th>7</th>\n",
       "      <td>7</td>\n",
       "      <td>15.0</td>\n",
       "    </tr>\n",
       "  </tbody>\n",
       "</table>\n",
       "</div>"
      ],
      "text/plain": [
       "   n_day  retention\n",
       "0      0      100.0\n",
       "1      1        0.0\n",
       "2      2        5.0\n",
       "3      3       10.0\n",
       "4      4        5.0\n",
       "5      5        0.0\n",
       "6      6       10.0\n",
       "7      7       15.0"
      ]
     },
     "execution_count": 37,
     "metadata": {},
     "output_type": "execute_result"
    }
   ],
   "source": [
    "r_graph"
   ]
  },
  {
   "cell_type": "code",
   "execution_count": 38,
   "id": "5f593e48",
   "metadata": {},
   "outputs": [
    {
     "data": {
      "text/plain": [
       "[Text(0.5, 0, 'N-Day'), Text(0, 0.5, 'Retention, %')]"
      ]
     },
     "execution_count": 38,
     "metadata": {},
     "output_type": "execute_result"
    },
    {
     "data": {
      "image/png": "[encoded data removed]",
      "text/plain": [
       "<Figure size 640x480 with 1 Axes>"
      ]
     },
     "metadata": {},
     "output_type": "display_data"
    }
   ],
   "source": [
    "# Построим график\n",
    "\n",
    "g_r7 = sns.lineplot(data=r_graph,\n",
    "                    x='n_day',\n",
    "                    y='retention')\n",
    "# Подпишем оси\n",
    "g_r7.set(xlabel='N-Day',\n",
    "         ylabel='Retention, %')"
   ]
  },
  {
   "cell_type": "markdown",
   "id": "0bc6ceba",
   "metadata": {},
   "source": [
    "На графике динамика Retention первой 1й недели для пользователей, зарегистрировавшихся в 2003 году."
   ]
  },
  {
   "cell_type": "code",
   "execution_count": 39,
   "id": "ca6c411e",
   "metadata": {},
   "outputs": [],
   "source": [
    "# Когортный анализ Retention\n",
    "\n",
    "# Выберем когорты за последний квартал 2004го года \n",
    "week_2 = cohorts_c.copy()[(cohorts_c.index < datetime.date(2005, 1, 1)) \n",
    "                          & (cohorts_c.index > datetime.date(2004, 9, 30))]"
   ]
  },
  {
   "cell_type": "code",
   "execution_count": 40,
   "id": "0fd07c8a",
   "metadata": {},
   "outputs": [],
   "source": [
    "# Переведем значения в проценты,\n",
    "# отфильтруем только нужные N-Days\n",
    "\n",
    "week_2 = week_2.div(week_2[0], axis=0) \\\n",
    "               .mul(100) \\\n",
    "               .round(1)[list(range(0, 15))]"
   ]
  },
  {
   "cell_type": "code",
   "execution_count": 41,
   "id": "4ef9c492",
   "metadata": {},
   "outputs": [],
   "source": [
    "# Для когорт, которые еще не дошли до соответствующих дней,\n",
    "# меняем 0 на пустые значения\n",
    "\n",
    "for i in range(len(week_2.index)):\n",
    "    for j in range(len(week_2.columns)):\n",
    "        if week_2.index[i] + pd.Timedelta(days=j) > today:\n",
    "            week_2.loc[week_2.index[i], week_2.columns[j]] = np.nan"
   ]
  },
  {
   "cell_type": "code",
   "execution_count": 42,
   "id": "a8dc8345",
   "metadata": {},
   "outputs": [
    {
     "data": {
      "text/html": [
       "<div>\n",
       "<style scoped>\n",
       "    .dataframe tbody tr th:only-of-type {\n",
       "        vertical-align: middle;\n",
       "    }\n",
       "\n",
       "    .dataframe tbody tr th {\n",
       "        vertical-align: top;\n",
       "    }\n",
       "\n",
       "    .dataframe thead th {\n",
       "        text-align: right;\n",
       "    }\n",
       "</style>\n",
       "<table border=\"1\" class=\"dataframe\">\n",
       "  <thead>\n",
       "    <tr style=\"text-align: right;\">\n",
       "      <th>days_passed</th>\n",
       "      <th>0</th>\n",
       "      <th>1</th>\n",
       "      <th>2</th>\n",
       "      <th>3</th>\n",
       "      <th>4</th>\n",
       "      <th>5</th>\n",
       "      <th>6</th>\n",
       "      <th>7</th>\n",
       "      <th>8</th>\n",
       "      <th>9</th>\n",
       "      <th>10</th>\n",
       "      <th>11</th>\n",
       "      <th>12</th>\n",
       "      <th>13</th>\n",
       "      <th>14</th>\n",
       "    </tr>\n",
       "    <tr>\n",
       "      <th>reg_ts</th>\n",
       "      <th></th>\n",
       "      <th></th>\n",
       "      <th></th>\n",
       "      <th></th>\n",
       "      <th></th>\n",
       "      <th></th>\n",
       "      <th></th>\n",
       "      <th></th>\n",
       "      <th></th>\n",
       "      <th></th>\n",
       "      <th></th>\n",
       "      <th></th>\n",
       "      <th></th>\n",
       "      <th></th>\n",
       "      <th></th>\n",
       "    </tr>\n",
       "  </thead>\n",
       "  <tbody>\n",
       "    <tr>\n",
       "      <th>2004-10-01</th>\n",
       "      <td>100.0</td>\n",
       "      <td>0.0</td>\n",
       "      <td>0.0</td>\n",
       "      <td>100.0</td>\n",
       "      <td>0.0</td>\n",
       "      <td>0.0</td>\n",
       "      <td>100.0</td>\n",
       "      <td>0.0</td>\n",
       "      <td>0.0</td>\n",
       "      <td>0.0</td>\n",
       "      <td>0.0</td>\n",
       "      <td>0.0</td>\n",
       "      <td>100.0</td>\n",
       "      <td>0.0</td>\n",
       "      <td>0.0</td>\n",
       "    </tr>\n",
       "    <tr>\n",
       "      <th>2004-10-10</th>\n",
       "      <td>100.0</td>\n",
       "      <td>0.0</td>\n",
       "      <td>0.0</td>\n",
       "      <td>0.0</td>\n",
       "      <td>0.0</td>\n",
       "      <td>0.0</td>\n",
       "      <td>0.0</td>\n",
       "      <td>0.0</td>\n",
       "      <td>0.0</td>\n",
       "      <td>0.0</td>\n",
       "      <td>0.0</td>\n",
       "      <td>0.0</td>\n",
       "      <td>0.0</td>\n",
       "      <td>0.0</td>\n",
       "      <td>0.0</td>\n",
       "    </tr>\n",
       "    <tr>\n",
       "      <th>2004-10-19</th>\n",
       "      <td>100.0</td>\n",
       "      <td>0.0</td>\n",
       "      <td>0.0</td>\n",
       "      <td>0.0</td>\n",
       "      <td>0.0</td>\n",
       "      <td>0.0</td>\n",
       "      <td>100.0</td>\n",
       "      <td>0.0</td>\n",
       "      <td>0.0</td>\n",
       "      <td>0.0</td>\n",
       "      <td>0.0</td>\n",
       "      <td>0.0</td>\n",
       "      <td>100.0</td>\n",
       "      <td>0.0</td>\n",
       "      <td>0.0</td>\n",
       "    </tr>\n",
       "    <tr>\n",
       "      <th>2004-10-28</th>\n",
       "      <td>100.0</td>\n",
       "      <td>0.0</td>\n",
       "      <td>0.0</td>\n",
       "      <td>0.0</td>\n",
       "      <td>0.0</td>\n",
       "      <td>0.0</td>\n",
       "      <td>0.0</td>\n",
       "      <td>0.0</td>\n",
       "      <td>0.0</td>\n",
       "      <td>0.0</td>\n",
       "      <td>0.0</td>\n",
       "      <td>0.0</td>\n",
       "      <td>0.0</td>\n",
       "      <td>0.0</td>\n",
       "      <td>0.0</td>\n",
       "    </tr>\n",
       "    <tr>\n",
       "      <th>2004-11-05</th>\n",
       "      <td>100.0</td>\n",
       "      <td>0.0</td>\n",
       "      <td>0.0</td>\n",
       "      <td>0.0</td>\n",
       "      <td>0.0</td>\n",
       "      <td>0.0</td>\n",
       "      <td>0.0</td>\n",
       "      <td>0.0</td>\n",
       "      <td>0.0</td>\n",
       "      <td>0.0</td>\n",
       "      <td>0.0</td>\n",
       "      <td>0.0</td>\n",
       "      <td>0.0</td>\n",
       "      <td>0.0</td>\n",
       "      <td>0.0</td>\n",
       "    </tr>\n",
       "  </tbody>\n",
       "</table>\n",
       "</div>"
      ],
      "text/plain": [
       "days_passed     0    1    2      3    4    5      6    7    8    9    10   11  \\\n",
       "reg_ts                                                                          \n",
       "2004-10-01   100.0  0.0  0.0  100.0  0.0  0.0  100.0  0.0  0.0  0.0  0.0  0.0   \n",
       "2004-10-10   100.0  0.0  0.0    0.0  0.0  0.0    0.0  0.0  0.0  0.0  0.0  0.0   \n",
       "2004-10-19   100.0  0.0  0.0    0.0  0.0  0.0  100.0  0.0  0.0  0.0  0.0  0.0   \n",
       "2004-10-28   100.0  0.0  0.0    0.0  0.0  0.0    0.0  0.0  0.0  0.0  0.0  0.0   \n",
       "2004-11-05   100.0  0.0  0.0    0.0  0.0  0.0    0.0  0.0  0.0  0.0  0.0  0.0   \n",
       "\n",
       "days_passed     12   13   14  \n",
       "reg_ts                        \n",
       "2004-10-01   100.0  0.0  0.0  \n",
       "2004-10-10     0.0  0.0  0.0  \n",
       "2004-10-19   100.0  0.0  0.0  \n",
       "2004-10-28     0.0  0.0  0.0  \n",
       "2004-11-05     0.0  0.0  0.0  "
      ]
     },
     "execution_count": 42,
     "metadata": {},
     "output_type": "execute_result"
    }
   ],
   "source": [
    "week_2.head()"
   ]
  },
  {
   "cell_type": "code",
   "execution_count": 43,
   "id": "911384c7",
   "metadata": {},
   "outputs": [
    {
     "data": {
      "text/plain": [
       "Text(0, 0, '')"
      ]
     },
     "execution_count": 43,
     "metadata": {},
     "output_type": "execute_result"
    },
    {
     "data": {
      "image/png": "[encoded data removed]",
      "text/plain": [
       "<Figure size 1100x500 with 2 Axes>"
      ]
     },
     "metadata": {},
     "output_type": "display_data"
    }
   ],
   "source": [
    "# Визуализируем данные\n",
    "\n",
    "# Отрегулируем размер\n",
    "f, ax = plt.subplots(figsize=(11, 5))\n",
    "\n",
    "# Создадим график,\n",
    "# подпишем значения,\n",
    "# зададим синий цвет, т.к. уже есть график синего цвета\n",
    "# выведем значения в привычном формате\n",
    "\n",
    "g_w2 = sns.heatmap(week_2, annot=True, cmap='Blues', fmt='g')\n",
    "\n",
    "# Перенесем подписи оси Х наверх\n",
    "g_w2.xaxis.tick_top()\n",
    "\n",
    "# Уберем лэйблы\n",
    "g_w2.set(xlabel=None, ylabel=None)\n",
    "\n",
    "# Повернем подписи оси Y\n",
    "plt.yticks(rotation=0)\n",
    "\n",
    "# Уберем доп. текст Matplotlib\n",
    "g_w2.text(0, 0, '')"
   ]
  },
  {
   "cell_type": "markdown",
   "id": "7cd18860",
   "metadata": {},
   "source": [
    "По графикам такого формата можно сравнивать Retention у разных когорт."
   ]
  },
  {
   "cell_type": "markdown",
   "id": "0146146f",
   "metadata": {},
   "source": [
    "### Финальный код функций.\n",
    "\n",
    "Внесем несколько корректировок в функции:\n",
    "1. Профильтруем даты регистраций в самом начале, чтобы ускорить работу функции.\n",
    "2. Для оконного способа подсчета при фильтрации по возможности наступления N-Day нужно добавить 1 день, чтобы абсолютно у всех пользователей, вошедших в когорту, в т.ч. зарегистрировавшихся в 23-59, прошло (N-Day * 24 часа).\n",
    "3. При небольших выборках в некоторые дни может не быть возвратов, соответственно и колонок, поэтому добавим except на этот случай, чтобы отображался 0. \n",
    "4. Добавим различные информационные сообщения и try-exept'ы, чтобы пользователи вводили корректные данные и получали фидбэк, если что-то пошло не так."
   ]
  },
  {
   "cell_type": "code",
   "execution_count": 44,
   "id": "b1e88f1e",
   "metadata": {},
   "outputs": [],
   "source": [
    "# Функция 1, возвращающая значение Retention N-Day\n",
    "\n",
    "def retention_nday(reg_path, \n",
    "                   auth_path, \n",
    "                   r_type, \n",
    "                   min_reg, \n",
    "                   max_reg, \n",
    "                   nday):\n",
    "    \n",
    "    '''\n",
    "Функция принимает следующие аргументы и параметры:\n",
    "1. Пути к файлам с данными о регистрациях и авторизациях (reg_path, auth_path).\n",
    "Укажите путь к файлам в двойных или одинарных кавычках.\n",
    "2. Способ расчета Retention (r_type). \n",
    "Укажите в двойных или одинарных кавычках \"с\" для календарного способа, \"w\" для оконного.\n",
    "3. Период регистраций (min_reg, max_reg). \n",
    "Укажите в двойных или одинарных кавычках минимальную и максимальную даты регистрации \n",
    "для выборки в формате \"гггг-мм-дд\".\n",
    "4. N-Day Retention (nday). \n",
    "Укажите день(цифру), для которого необходимо посчитать Retention. \n",
    "    \n",
    "Функция возвращает значение Retention указанного дня.\n",
    "'''\n",
    "    # Загрузим 2 ДФа\n",
    "    try:\n",
    "        reg = pd.read_csv(reg_path, sep=';')\n",
    "        auth = pd.read_csv(auth_path, sep=';')\n",
    "    except:\n",
    "        return print('''\n",
    "Вы ввели неверный(ые) путь(и) к данным о регистрациях и авторизациях \n",
    "(reg_path, auth_path). Запустите функцию снова, указав пути к файлам \n",
    "в двойных или одинарных кавычках. Для вызова справки по функции \n",
    "введите print(retention_nday.__doc__).\n",
    "''')\n",
    "    \n",
    "    # Создадим новую колонку с регистрациями в формате дат\n",
    "    reg['reg_date'] = pd.to_datetime(reg.reg_ts,\n",
    "                                     unit='s').dt.date\n",
    "    \n",
    "    # Считаем минимальную и максимальную дату регистрации\n",
    "    try:\n",
    "        reg_min = datetime.date(int(min_reg.split('-')[0]),\n",
    "                                int(min_reg.split('-')[1]),\n",
    "                                int(min_reg.split('-')[2]))\n",
    "        reg_max = datetime.date(int(max_reg.split('-')[0]),\n",
    "                                int(max_reg.split('-')[1]),\n",
    "                                int(max_reg.split('-')[2]))\n",
    "        \n",
    "        if reg_min > reg_max:\n",
    "            return print('''\n",
    "Минимальная дата регистрации больше максимальной. Запустите функцию \n",
    "снова, указав в двойных или одинарных кавычках минимальную и \n",
    "максимальную даты регистрации для выборки в формате \"гггг-мм-дд\". \n",
    "Для вызова справки по функции введите print(retention_nday.__doc__).\n",
    "''')\n",
    "        \n",
    "        elif reg_min > reg.reg_date.max() \\\n",
    "             or reg_max < reg.reg_date.min():\n",
    "            return print('''\n",
    "Заданный временной отрезок отсутствует в данных о регистрациях. \n",
    "Запустите функцию снова, указав в двойных или одинарных кавычках \n",
    "минимальную и максимальную даты регистрации для выборки в формате \n",
    "\"гггг-мм-дд\". Для вызова справки по функции введите \n",
    "print(retention_nday.__doc__).\n",
    "            ''')\n",
    "        \n",
    "    except:\n",
    "        return print('''\n",
    "Вы ввели неверное(ые) значение(я) минимальной и/или максимальной\n",
    "даты регистрации (min_reg, max_reg). Запустите функцию снова, указав в \n",
    "двойных или одинарных кавычках минимальную и максимальную даты регистрации \n",
    "для выборки в формате \"гггг-мм-дд\". Для вызова справки по функции \n",
    "введите print(retention_nday.__doc__).\n",
    "''')\n",
    "    \n",
    "    # Оставим регистрации только для выбранного периода\n",
    "    reg = reg[((reg.reg_date <= reg_max) \n",
    "              & (reg.reg_date >= reg_min))] \n",
    "          \n",
    "    # Объединим данные\n",
    "    df = auth.merge(reg, on='uid')\n",
    "    \n",
    "    # Сохраним сегодняшнюю дату в переменную\n",
    "    today = pd.to_datetime('today').date()  \n",
    "        \n",
    "    if nday < 0:\n",
    "        return print('''\n",
    "Значение N-Day(nday) не может быть ниже нуля. Запустите функцию снова, \n",
    "указав день(цифру), для которого необходимо посчитать Retention. Для вызова \n",
    "справки по функции введите print(retention_nday.__doc__).\n",
    "''')\n",
    "    \n",
    "    # Считаем N-Day,\n",
    "    # зададим значение для фильтрации когорт\n",
    "    try:\n",
    "        n_day = f'{int(nday)} days'\n",
    "    except:\n",
    "        return print('''\n",
    "Вы ввели неверное значение N-Day(nday). Запустите функцию снова, \n",
    "указав день(цифру), для которого необходимо посчитать Retention. Для вызова \n",
    "справки по функции введите print(retention_nday.__doc__).\n",
    "''')\n",
    "    \n",
    "    # В зависимости от типа расчета соберем ДФ с когортами\n",
    "    # Для календарного типа\n",
    "    if r_type == 'c':\n",
    "        \n",
    "        # Создадим колонку с авторизациями в формат дате\n",
    "        df['auth_date'] = pd.to_datetime(df.auth_ts,\n",
    "                                    unit='s').dt.date\n",
    "        \n",
    "        # Создадим колонку с кол-вом прошедших дней\n",
    "        df['days_passed'] = (df.auth_date - df.reg_date).dt.days\n",
    "        \n",
    "        # Посчитаем, сколько пользователей вернулось на свой N-day\n",
    "        df = df.groupby(['reg_date', 'days_passed'], \n",
    "                        as_index=False).uid.nunique()\n",
    "        \n",
    "        # Разобьем пользователей на когорты, покажем кол-во возвратов по дням\n",
    "        cohorts = df.pivot(index='reg_date', \n",
    "                           columns='days_passed', \n",
    "                           values='uid') \\\n",
    "                    .fillna(0) \\\n",
    "                    .astype(int)\n",
    "        \n",
    "        # Уберем когорты, у которых не мог наступить N-Day\n",
    "        cohorts = cohorts[(today - cohorts.index) >= n_day]\n",
    "            \n",
    "        if cohorts.shape[0] == 0:\n",
    "            return print('''\n",
    "В указанном временном промежутке регистраций нет ни одной когорты, у которой \n",
    "прошло достаточно дней, чтобы иметь возможность вернуться в заданный N-Day.\n",
    "''')\n",
    "    \n",
    "    # Для оконного типа расчета\n",
    "    elif r_type == 'w':\n",
    "        \n",
    "        # Сохраним размер окна в переменную\n",
    "        secs_in_day = 24 * 60 * 60\n",
    "        \n",
    "        # Создадим колонку с кол-вом прошедших окон\n",
    "        df['days_passed'] = (df.auth_ts - df.reg_ts) // secs_in_day\n",
    "        \n",
    "        # Посчитаем, сколько пользователей вернулось на свой N-day\n",
    "        df = df.groupby(['reg_date', 'days_passed'], \n",
    "                        as_index=False).uid.nunique()\n",
    "        \n",
    "        # Разобьем пользователей на когорты, \n",
    "        # покажем кол-во возвратов по дням\n",
    "        cohorts = df.pivot(index='reg_date', \n",
    "                           columns='days_passed', \n",
    "                           values='uid') \\\n",
    "                    .fillna(0) \\\n",
    "                    .astype(int)\n",
    "        \n",
    "        # Уберем когорты, \n",
    "        # у которых не мог наступить N-Day\n",
    "        cohorts = cohorts[(today - cohorts.index) >= f'{int(nday + 1)} days']\n",
    "    \n",
    "        if cohorts.shape[0] == 0:\n",
    "            return print('''\n",
    "В указанном временном промежутке регистраций нет ни одной когорты, у которой \n",
    "прошло достаточно дней, чтобы иметь возможность вернуться в заданный N-Day.\n",
    "''')\n",
    "    else:\n",
    "        return print('''\n",
    "Вы ввели неверное значение способа расчета Retention (r-type). \n",
    "Запустите функцию снова, указав в двойных или одинарных кавычках \"с\" \n",
    "для календарного способа, \"w\" для оконного. Для вызова справки по функции \n",
    "введите print(retention_nday.__doc__).\n",
    "''')   \n",
    "    \n",
    "    # Посчитаем Retention\n",
    "    try:\n",
    "        r = ((cohorts[nday].sum() / cohorts[0].sum()) * 100).round(1)\n",
    "    except:\n",
    "        return print(f'''\n",
    "Retention {nday} дня среди пользователей, зарегистрировавшихся в\n",
    "период с {min_reg} по {max_reg}, составляет 0.0%.\n",
    "''') \n",
    "    \n",
    "    # Вернем ответ\n",
    "    return print(f'''\n",
    "Retention {nday} дня среди пользователей, зарегистрировавшихся в\n",
    "период с {min_reg} по {max_reg}, составляет {r}%.\n",
    "''') "
   ]
  },
  {
   "cell_type": "code",
   "execution_count": 45,
   "id": "399d80a7",
   "metadata": {},
   "outputs": [
    {
     "name": "stdout",
     "output_type": "stream",
     "text": [
      "\n",
      "Retention 7 дня среди пользователей, зарегистрировавшихся в\n",
      "период с 2002-01-01 по 2002-12-31, составляет 20.0%.\n",
      "\n"
     ]
    }
   ],
   "source": [
    "# Проверим работу функции 1\n",
    "\n",
    "retention_nday(reg_path, \n",
    "               auth_path, \n",
    "               'c', \n",
    "               '2002-01-01', \n",
    "               '2002-12-31', \n",
    "               7)"
   ]
  },
  {
   "cell_type": "markdown",
   "id": "b367e320",
   "metadata": {},
   "source": [
    "Часть 1й функции можно выделить в отдельную функцию, чтобы использовать ее во всех 3х, или же ввести еще один параметр, который позволит выводить только ту информацию, которая нужна, но мы не знаем, где и как будут располагаться функции, все ли понадобятся, поэтому на данном этапе просто сделаем 3 независимых самостоятельных конструкции, а при необходимости оптимизируем и сократим код в соответствии с фидбэком заказчика."
   ]
  },
  {
   "cell_type": "code",
   "execution_count": 46,
   "id": "0db33618",
   "metadata": {},
   "outputs": [],
   "source": [
    "# Функция 2, возвращающая график динамики \n",
    "# Retention за выбранный период\n",
    "\n",
    "def retention_graph(reg_path, \n",
    "                    auth_path, \n",
    "                    r_type, \n",
    "                    min_reg, \n",
    "                    max_reg, \n",
    "                    min_nday,\n",
    "                    max_nday):\n",
    "    \n",
    "    '''\n",
    "Функция принимает следующие аргументы и параметры:\n",
    "1. Пути к файлам с данными о регистрациях и авторизациях (reg_path, auth_path).\n",
    "Укажите путь к файлам в двойных или одинарных кавычках.\n",
    "2. Способ расчета Retention (r_type). \n",
    "Укажите в двойных или одинарных кавычках \"с\" для календарного способа, \"w\" для оконного.\n",
    "3. Период регистраций (min_reg, max_reg). \n",
    "Укажите в двойных или одинарных кавычках минимальную и максимальную даты регистрации \n",
    "для выборки в формате \"гггг-мм-дд\".\n",
    "4. Временной отрезок Retention (min_nday, max_nday). \n",
    "Укажите минимальный и максимальный N-Day(цифры), для которых необходимо показать динамику Retention. \n",
    "    \n",
    "Функция возвращает график динамики Retention за выбранный период.\n",
    "'''\n",
    "    # Загрузим 2 ДФа\n",
    "    try:\n",
    "        reg = pd.read_csv(reg_path, sep=';')\n",
    "        auth = pd.read_csv(auth_path, sep=';')\n",
    "    except:\n",
    "        return print('''\n",
    "Вы ввели неверный(ые) путь(и) к данным о регистрациях и авторизациях \n",
    "(reg_path, auth_path). Запустите функцию снова, указав пути к файлам \n",
    "в двойных или одинарных кавычках. Для вызова справки по функции \n",
    "введите print(retention_graph.__doc__).\n",
    "''')\n",
    "    \n",
    "    # Создадим новую колонку с регистрациями в формате дат\n",
    "    reg['reg_date'] = pd.to_datetime(reg.reg_ts,\n",
    "                                     unit='s').dt.date\n",
    "    \n",
    "    # Считаем минимальную и максимальную дату регистрации\n",
    "    try:\n",
    "        reg_min = datetime.date(int(min_reg.split('-')[0]),\n",
    "                                int(min_reg.split('-')[1]),\n",
    "                                int(min_reg.split('-')[2]))\n",
    "        reg_max = datetime.date(int(max_reg.split('-')[0]),\n",
    "                                int(max_reg.split('-')[1]),\n",
    "                                int(max_reg.split('-')[2]))\n",
    "        \n",
    "        if reg_min > reg_max:\n",
    "            return print('''\n",
    "Минимальная дата регистрации больше максимальной. Запустите функцию \n",
    "снова, указав в двойных или одинарных кавычках минимальную и \n",
    "максимальную даты регистрации для выборки в формате \"гггг-мм-дд\". \n",
    "Для вызова справки по функции введите print(retention_graph.__doc__).\n",
    "''')\n",
    "        \n",
    "        elif reg_min > reg.reg_date.max() \\\n",
    "             or reg_max < reg.reg_date.min():\n",
    "            return print('''\n",
    "Заданный временной отрезок отсутствует в данных о регистрациях. \n",
    "Запустите функцию снова, указав в двойных или одинарных кавычках \n",
    "минимальную и максимальную даты регистрации для выборки в формате \n",
    "\"гггг-мм-дд\". Для вызова справки по функции введите \n",
    "print(retention_graph.__doc__).\n",
    "            ''')\n",
    "        \n",
    "    except:\n",
    "        return print('''\n",
    "Вы ввели неверное(ые) значение(я) минимальной и/или максимальной\n",
    "даты регистрации (min_reg, max_reg). Запустите функцию снова, указав в \n",
    "двойных или одинарных кавычках минимальную и максимальную даты регистрации \n",
    "для выборки в формате \"гггг-мм-дд\". Для вызова справки по функции \n",
    "введите print(retention_graph.__doc__).\n",
    "''')\n",
    "    \n",
    "    # Оставим регистрации только для выбранного периода\n",
    "    reg = reg[((reg.reg_date <= reg_max) \n",
    "              & (reg.reg_date >= reg_min))] \n",
    "          \n",
    "    # Объединим данные\n",
    "    df = auth.merge(reg, on='uid')\n",
    "    \n",
    "    # Сохраним сегодняшнюю дату в переменную\n",
    "    today = pd.to_datetime('today').date()  \n",
    "    \n",
    "    # Проверим N-Days на соответствие условиям\n",
    "    try:\n",
    "        if min_nday > max_nday:\n",
    "            return print('''\n",
    "Минимальный N-Day больше максимального. Запустите функцию \n",
    "снова, указав минимальный и максимальный N-Day(цифры), для которых \n",
    "необходимо показать динамику Retention. Для вызова справки по функции \n",
    "введите print(retention_graph.__doc__).\n",
    "''')\n",
    "        elif min_nday < 0:\n",
    "            return print('''\n",
    "N-Day не может быть меньше нуля. Запустите функцию снова, указав \n",
    "минимальный и максимальный N-Day(цифры), для которых необходимо \n",
    "показать динамику Retention. Для вызова справки по функции \n",
    "введите print(retention_graph.__doc__).\n",
    "''')\n",
    "        \n",
    "    except:\n",
    "        return print('''\n",
    "Вы ввели неверное(ые) значение(я) N-Day (min_nday, max_nday). Запустите \n",
    "функцию снова, указав минимальный и максимальный N-Day(цифры), для которых \n",
    "необходимо показать динамику Retention. Для вызова справки по функции \n",
    "введите print(retention_graph.__doc__).\n",
    "''')\n",
    "    \n",
    "    # Зададим значение N-Day Для фильтрации когорт\n",
    "    n_day = f'{int(max_nday)} days'\n",
    "    \n",
    "    # В зависимости от типа расчета соберем ДФ с когортами\n",
    "    # Для календарного типа расчета\n",
    "    if r_type == 'c':\n",
    "        \n",
    "        # Создадим колонку с авторизациями в формат дате\n",
    "        df['auth_date'] = pd.to_datetime(df.auth_ts,\n",
    "                                    unit='s').dt.date\n",
    "        \n",
    "        # Создадим колонку с кол-вом прошедших дней\n",
    "        df['days_passed'] = (df.auth_date - df.reg_date).dt.days\n",
    "        \n",
    "        # Посчитаем, сколько пользователей вернулось на свой N-day\n",
    "        df = df.groupby(['reg_date', 'days_passed'], \n",
    "                        as_index=False).uid.nunique()\n",
    "        \n",
    "        # Разобьем пользователей на когорты, \n",
    "        # покажем кол-во возвратов по дням\n",
    "        cohorts = df.pivot(index='reg_date', \n",
    "                           columns='days_passed', \n",
    "                           values='uid') \\\n",
    "                    .fillna(0) \\\n",
    "                    .astype(int)\n",
    "        \n",
    "        # Уберем когорты, у которых не мог наступить N-Day\n",
    "        cohorts = cohorts[(today - cohorts.index) >= n_day]\n",
    "            \n",
    "        if cohorts.shape[0] == 0:\n",
    "            return print('''\n",
    "В указанном временном промежутке регистраций нет ни одной когорты, у которой \n",
    "прошло достаточно дней, чтобы иметь возможность вернуться в заданный N-Day.\n",
    "''')\n",
    "    \n",
    "    # Для оконного типа расчета\n",
    "    elif r_type == 'w':\n",
    "        \n",
    "        # Сохраним размер окна в переменную\n",
    "        secs_in_day = 24 * 60 * 60\n",
    "        \n",
    "        # Создадим колонку с кол-вом прошедших окон\n",
    "        df['days_passed'] = (df.auth_ts - df.reg_ts) // secs_in_day\n",
    "        \n",
    "        # Посчитаем, сколько пользователей вернулось на свой N-day\n",
    "        df = df.groupby(['reg_date', 'days_passed'], \n",
    "                        as_index=False).uid.nunique()\n",
    "        \n",
    "        # Разобьем пользователей на когорты, \n",
    "        # покажем кол-во возвратов по дням\n",
    "        cohorts = df.pivot(index='reg_date', \n",
    "                           columns='days_passed', \n",
    "                           values='uid') \\\n",
    "                    .fillna(0) \\\n",
    "                    .astype(int)\n",
    "        \n",
    "        # Уберем когорты, у которых не мог наступить N-Day\n",
    "        cohorts = cohorts[(today - cohorts.index) >= f'{max_nday + 1} days']\n",
    "    \n",
    "        if cohorts.shape[0] == 0:\n",
    "            return print('''\n",
    "В указанном временном промежутке регистраций нет ни одной когорты, у которой \n",
    "прошло достаточно дней, чтобы иметь возможность вернуться в заданный N-Day.\n",
    "''')\n",
    "    else:\n",
    "        return print('''\n",
    "Вы ввели неверное значение способа расчета Retention (r-type). \n",
    "Запустите функцию снова, указав в двойных или одинарных кавычках \"с\" \n",
    "для календарного способа, \"w\" для оконного. Для вызова справки по функции \n",
    "введите print(retention_graph.__doc__).\n",
    "''')   \n",
    "    \n",
    "    # Создадим список со значениями Retention,\n",
    "    # Посчитаем Retention для каждого дня\n",
    "\n",
    "    r_results = []\n",
    "\n",
    "    for i in range(min_nday, max_nday + 1):\n",
    "        try:\n",
    "            r = ((cohorts[i].sum() / cohorts[0].sum()) * 100).round(1)\n",
    "        except:\n",
    "            r = 0\n",
    "        r_results.append(r)\n",
    "        \n",
    "    # Создадим список с днями\n",
    "    r_days = list(range(min_nday, max_nday + 1))\n",
    "    \n",
    "    # Соберем ДФ\n",
    "    r_graph = pd.DataFrame({'n_day': r_days,\n",
    "                            'retention': r_results})\n",
    "    \n",
    "    # Построим график\n",
    "    g_r7 = sns.lineplot(data=r_graph,\n",
    "                        x='n_day',\n",
    "                        y='retention')\n",
    "    # Подпишем оси\n",
    "    g_r7.set(xlabel='N-Day',\n",
    "             ylabel='Retention, %')\n",
    "    \n",
    "    # Вернем график\n",
    "    return g_r7"
   ]
  },
  {
   "cell_type": "code",
   "execution_count": 47,
   "id": "17860a5a",
   "metadata": {},
   "outputs": [
    {
     "data": {
      "text/plain": [
       "<AxesSubplot:xlabel='N-Day', ylabel='Retention, %'>"
      ]
     },
     "execution_count": 47,
     "metadata": {},
     "output_type": "execute_result"
    },
    {
     "data": {
      "image/png": "[encoded data removed]",
      "text/plain": [
       "<Figure size 640x480 with 1 Axes>"
      ]
     },
     "metadata": {},
     "output_type": "display_data"
    }
   ],
   "source": [
    "# Проверим работу функции 2\n",
    "\n",
    "retention_graph(reg_path, \n",
    "                auth_path, \n",
    "                'c', \n",
    "                '2003-01-01', \n",
    "                '2003-12-31', \n",
    "                0,\n",
    "                7)"
   ]
  },
  {
   "cell_type": "code",
   "execution_count": 48,
   "id": "099a169c",
   "metadata": {},
   "outputs": [],
   "source": [
    "# Функция 3, возвращающая когортный анализ \n",
    "# Retention за выбранный период\n",
    "\n",
    "def retention_cohorts(reg_path, \n",
    "                      auth_path, \n",
    "                      r_type, \n",
    "                      min_reg, \n",
    "                      max_reg, \n",
    "                      min_nday,\n",
    "                      max_nday):\n",
    "    \n",
    "    '''\n",
    "Функция принимает следующие аргументы и параметры:\n",
    "1. Пути к файлам с данными о регистрациях и авторизациях (reg_path, auth_path).\n",
    "Укажите путь к файлам в двойных или одинарных кавычках.\n",
    "2. Способ расчета Retention (r_type). \n",
    "Укажите в двойных или одинарных кавычках \"с\" для календарного способа, \"w\" для оконного.\n",
    "3. Период регистраций (min_reg, max_reg). \n",
    "Укажите в двойных или одинарных кавычках минимальную и максимальную даты регистрации \n",
    "для выборки в формате \"гггг-мм-дд\".\n",
    "4. Временной отрезок Retention (min_nday, max_nday). \n",
    "Укажите минимальный и максимальный N-Day(цифры), для которых необходимо показать динамику Retention. \n",
    "    \n",
    "Функция возвращает когортный анализ Retention за выбранный период.\n",
    "'''\n",
    "    # Загрузим 2 ДФа\n",
    "    try:\n",
    "        reg = pd.read_csv(reg_path, sep=';')\n",
    "        auth = pd.read_csv(auth_path, sep=';')\n",
    "    except:\n",
    "        return print('''\n",
    "Вы ввели неверный(ые) путь(и) к данным о регистрациях и авторизациях \n",
    "(reg_path, auth_path). Запустите функцию снова, указав пути к файлам \n",
    "в двойных или одинарных кавычках. Для вызова справки по функции \n",
    "введите print(retention_cohorts.__doc__).\n",
    "''')\n",
    "    \n",
    "    # Создадим новую колонку с регистрациями в формате дат\n",
    "    reg['reg_date'] = pd.to_datetime(reg.reg_ts,\n",
    "                                     unit='s').dt.date\n",
    "    \n",
    "    # Считаем минимальную и максимальную дату регистрации\n",
    "    try:\n",
    "        reg_min = datetime.date(int(min_reg.split('-')[0]),\n",
    "                                int(min_reg.split('-')[1]),\n",
    "                                int(min_reg.split('-')[2]))\n",
    "        reg_max = datetime.date(int(max_reg.split('-')[0]),\n",
    "                                int(max_reg.split('-')[1]),\n",
    "                                int(max_reg.split('-')[2]))\n",
    "        \n",
    "        if reg_min > reg_max:\n",
    "            return print('''\n",
    "Минимальная дата регистрации больше максимальной. Запустите функцию \n",
    "снова, указав в двойных или одинарных кавычках минимальную и \n",
    "максимальную даты регистрации для выборки в формате \"гггг-мм-дд\". \n",
    "Для вызова справки по функции введите print(retention_cohorts.__doc__).\n",
    "''')\n",
    "        \n",
    "        elif reg_min > reg.reg_date.max() \\\n",
    "             or reg_max < reg.reg_date.min():\n",
    "            return print('''\n",
    "Заданный временной отрезок отсутствует в данных о регистрациях. \n",
    "Запустите функцию снова, указав в двойных или одинарных кавычках \n",
    "минимальную и максимальную даты регистрации для выборки в формате \n",
    "\"гггг-мм-дд\". Для вызова справки по функции введите \n",
    "print(retention_cohorts.__doc__).\n",
    "''')\n",
    "        \n",
    "    except:\n",
    "        return print('''\n",
    "Вы ввели неверное(ые) значение(я) минимальной и/или максимальной\n",
    "даты регистрации (min_reg, max_reg). Запустите функцию снова, указав в \n",
    "двойных или одинарных кавычках минимальную и максимальную даты регистрации \n",
    "для выборки в формате \"гггг-мм-дд\". Для вызова справки по функции \n",
    "введите print(retention_cohorts.__doc__).\n",
    "''')\n",
    "    \n",
    "    # Оставим регистрации только для выбранного периода\n",
    "    reg = reg[((reg.reg_date <= reg_max) \n",
    "              & (reg.reg_date >= reg_min))] \n",
    "          \n",
    "    # Объединим данные\n",
    "    df = auth.merge(reg, on='uid')\n",
    "    \n",
    "    # Сохраним сегодняшнюю дату в переменную\n",
    "    today = pd.to_datetime('today').date()  \n",
    "    \n",
    "    # Проверим N-Days на соответствие условиям\n",
    "    try:\n",
    "        if min_nday > max_nday:\n",
    "            return print('''\n",
    "Минимальный N-Day больше максимального. Запустите функцию \n",
    "снова, указав минимальный и максимальный N-Day(цифры), для которых \n",
    "необходимо показать динамику Retention. Для вызова справки по функции \n",
    "введите print(retention_cohorts.__doc__).\n",
    "''')\n",
    "        elif min_nday < 0:\n",
    "            return print('''\n",
    "N-Day не может быть меньше нуля. Запустите функцию снова, указав \n",
    "минимальный и максимальный N-Day(цифры), для которых необходимо \n",
    "показать динамику Retention. Для вызова справки по функции \n",
    "введите print(retention_cohorts.__doc__).\n",
    "''')\n",
    "        \n",
    "    except:\n",
    "        return print('''\n",
    "Вы ввели неверное(ые) значение(я) N-Day (min_nday, max_nday). Запустите \n",
    "функцию снова, указав минимальный и максимальный N-Day(цифры), для которых \n",
    "необходимо показать динамику Retention. Для вызова справки по функции \n",
    "введите print(retention_cohorts.__doc__).\n",
    "''')\n",
    "        \n",
    "    # В зависимости от типа расчета соберем ДФ с когортами\n",
    "    # Для календарного типа расчета\n",
    "    if r_type == 'c':\n",
    "        \n",
    "        # Создадим колонку с авторизациями в формат дате\n",
    "        df['auth_date'] = pd.to_datetime(df.auth_ts,\n",
    "                                    unit='s').dt.date\n",
    "        \n",
    "        # Создадим колонку с кол-вом прошедших дней\n",
    "        df['days_passed'] = (df.auth_date - df.reg_date).dt.days       \n",
    "    \n",
    "    # Для оконного типа расчета\n",
    "    elif r_type == 'w':\n",
    "        \n",
    "        # Сохраним размер окна в переменную\n",
    "        secs_in_day = 24 * 60 * 60\n",
    "        \n",
    "        # Создадим колонку с кол-вом прошедших окон\n",
    "        df['days_passed'] = (df.auth_ts - df.reg_ts) // secs_in_day\n",
    "        \n",
    "    else:\n",
    "        return print('''\n",
    "Вы ввели неверное значение способа расчета Retention (r-type). \n",
    "Запустите функцию снова, указав в двойных или одинарных кавычках \"с\" \n",
    "для календарного способа, \"w\" для оконного. Для вызова справки по функции \n",
    "введите print(retention_cohorts.__doc__).\n",
    "''')   \n",
    "    \n",
    "    # Посчитаем, сколько пользователей вернулось на свой N-day\n",
    "    df = df.groupby(['reg_date', 'days_passed'], \n",
    "                    as_index=False).uid.nunique()\n",
    "        \n",
    "    # Разобьем пользователей на когорты, \n",
    "    # покажем кол-во возвратов по дням\n",
    "    cohorts = df.pivot(index='reg_date', \n",
    "                       columns='days_passed', \n",
    "                       values='uid') \\\n",
    "                .fillna(0) \\\n",
    "                .astype(int)\n",
    "    \n",
    "    # Добавим недостающие колонки с пустыми значениями\n",
    "    for i in range(min_nday, max_nday + 1):\n",
    "        if i not in cohorts.columns:\n",
    "            cohorts[i] = [0] * len(cohorts.index)\n",
    "    \n",
    "    # Переведем значения в проценты,\n",
    "    # отфильтруем только нужные N-Days\n",
    "    cohorts = cohorts.div(cohorts[0], axis=0) \\\n",
    "                     .mul(100) \\\n",
    "                     .round(1) \\\n",
    "                     [list(range(min_nday, max_nday + 1))]\n",
    "       \n",
    "    # Для когорт, которые еще не дошли до соответствующих дней,\n",
    "    # меняем 0 на пустые значения\n",
    "    for i in range(len(cohorts.index)):\n",
    "        for j in range(len(cohorts.columns)):\n",
    "            if cohorts.index[i] \\\n",
    "               + pd.Timedelta(days=j) > today:\n",
    "                cohorts.loc[cohorts.index[i], \n",
    "                            cohorts.columns[j]] = np.nan    \n",
    "    \n",
    "    # Визуализируем данные\n",
    "    f, ax = plt.subplots(figsize=(11, 5))\n",
    "    cg = sns.heatmap(cohorts, annot=True, cmap='Blues', fmt='g')\n",
    "    cg.xaxis.tick_top()\n",
    "    cg.set(xlabel=None, ylabel=None)\n",
    "    plt.yticks(rotation=0)\n",
    "    cg.text(0, 0, '')\n",
    "        \n",
    "    # Вернем когортный анализ\n",
    "    return cg"
   ]
  },
  {
   "cell_type": "code",
   "execution_count": 49,
   "id": "492c6d0d",
   "metadata": {},
   "outputs": [
    {
     "data": {
      "text/plain": [
       "<AxesSubplot:>"
      ]
     },
     "execution_count": 49,
     "metadata": {},
     "output_type": "execute_result"
    },
    {
     "data": {
      "image/png": "[encoded data removed]",
      "text/plain": [
       "<Figure size 1100x500 with 2 Axes>"
      ]
     },
     "metadata": {},
     "output_type": "display_data"
    }
   ],
   "source": [
    "# Проверим работу функции 3\n",
    "\n",
    "retention_cohorts(reg_path, \n",
    "                  auth_path, \n",
    "                  'c', \n",
    "                  '2004-10-01', \n",
    "                  '2004-12-31', \n",
    "                  0,\n",
    "                  14)"
   ]
  },
  {
   "cell_type": "markdown",
   "id": "1af3a320",
   "metadata": {},
   "source": [
    "# Анализ результатов A/B тестирования."
   ]
  },
  {
   "cell_type": "code",
   "execution_count": 50,
   "id": "516f12e0",
   "metadata": {},
   "outputs": [],
   "source": [
    "# Присвоим переменной адрес с данными\n",
    "\n",
    "ab_path = 'https://getfile.dokpub.com/yandex/get/https://disk.yandex.ru/d/SOkIsD5A8xlI7Q'"
   ]
  },
  {
   "cell_type": "code",
   "execution_count": 51,
   "id": "94c3af25",
   "metadata": {},
   "outputs": [],
   "source": [
    "# Считаем данные в ДФ\n",
    "\n",
    "ab_df = pd.read_csv(ab_path, sep=';')"
   ]
  },
  {
   "cell_type": "code",
   "execution_count": 52,
   "id": "d6dc49fd",
   "metadata": {},
   "outputs": [
    {
     "data": {
      "text/html": [
       "<div>\n",
       "<style scoped>\n",
       "    .dataframe tbody tr th:only-of-type {\n",
       "        vertical-align: middle;\n",
       "    }\n",
       "\n",
       "    .dataframe tbody tr th {\n",
       "        vertical-align: top;\n",
       "    }\n",
       "\n",
       "    .dataframe thead th {\n",
       "        text-align: right;\n",
       "    }\n",
       "</style>\n",
       "<table border=\"1\" class=\"dataframe\">\n",
       "  <thead>\n",
       "    <tr style=\"text-align: right;\">\n",
       "      <th></th>\n",
       "      <th>user_id</th>\n",
       "      <th>revenue</th>\n",
       "      <th>testgroup</th>\n",
       "    </tr>\n",
       "  </thead>\n",
       "  <tbody>\n",
       "    <tr>\n",
       "      <th>0</th>\n",
       "      <td>1</td>\n",
       "      <td>0</td>\n",
       "      <td>b</td>\n",
       "    </tr>\n",
       "    <tr>\n",
       "      <th>1</th>\n",
       "      <td>2</td>\n",
       "      <td>0</td>\n",
       "      <td>a</td>\n",
       "    </tr>\n",
       "    <tr>\n",
       "      <th>2</th>\n",
       "      <td>3</td>\n",
       "      <td>0</td>\n",
       "      <td>a</td>\n",
       "    </tr>\n",
       "    <tr>\n",
       "      <th>3</th>\n",
       "      <td>4</td>\n",
       "      <td>0</td>\n",
       "      <td>b</td>\n",
       "    </tr>\n",
       "    <tr>\n",
       "      <th>4</th>\n",
       "      <td>5</td>\n",
       "      <td>0</td>\n",
       "      <td>b</td>\n",
       "    </tr>\n",
       "  </tbody>\n",
       "</table>\n",
       "</div>"
      ],
      "text/plain": [
       "   user_id  revenue testgroup\n",
       "0        1        0         b\n",
       "1        2        0         a\n",
       "2        3        0         a\n",
       "3        4        0         b\n",
       "4        5        0         b"
      ]
     },
     "execution_count": 52,
     "metadata": {},
     "output_type": "execute_result"
    }
   ],
   "source": [
    "ab_df.head()"
   ]
  },
  {
   "cell_type": "code",
   "execution_count": 53,
   "id": "b07249f6",
   "metadata": {},
   "outputs": [
    {
     "name": "stdout",
     "output_type": "stream",
     "text": [
      "<class 'pandas.core.frame.DataFrame'>\n",
      "RangeIndex: 404770 entries, 0 to 404769\n",
      "Data columns (total 3 columns):\n",
      " #   Column     Non-Null Count   Dtype \n",
      "---  ------     --------------   ----- \n",
      " 0   user_id    404770 non-null  int64 \n",
      " 1   revenue    404770 non-null  int64 \n",
      " 2   testgroup  404770 non-null  object\n",
      "dtypes: int64(2), object(1)\n",
      "memory usage: 9.3+ MB\n"
     ]
    }
   ],
   "source": [
    "ab_df.info()"
   ]
  },
  {
   "cell_type": "code",
   "execution_count": 54,
   "id": "d5767e18",
   "metadata": {},
   "outputs": [
    {
     "data": {
      "text/plain": [
       "404770"
      ]
     },
     "execution_count": 54,
     "metadata": {},
     "output_type": "execute_result"
    }
   ],
   "source": [
    "# Посмотрим, все ли записи уникальные\n",
    "\n",
    "ab_df.user_id.nunique()"
   ]
  },
  {
   "cell_type": "code",
   "execution_count": 55,
   "id": "b4cfd9eb",
   "metadata": {},
   "outputs": [
    {
     "data": {
      "text/plain": [
       "2"
      ]
     },
     "execution_count": 55,
     "metadata": {},
     "output_type": "execute_result"
    }
   ],
   "source": [
    "# Узнаем, сколько у нас групп\n",
    "\n",
    "ab_df.testgroup.nunique()"
   ]
  },
  {
   "cell_type": "markdown",
   "id": "00978e6a",
   "metadata": {},
   "source": [
    "Проанализируем результаты по следующему алгоритму:\n",
    "1. Сравним ARPU, т.к. это важная и комплексная продуктовая метрика.\n",
    "2. Сравним ARPPU и CR. Именно из них складывается ARPU, но может сложиться такая ситуция, что ARPU не покажет стат. значимых отличий, а одна из этих метрик покажет, кроме того, зная 2 этих метрики у нас будет понимание, что именно влияет на доход.\n",
    "3. Посмотрим на распределения каждой из метрик.\n",
    "4. Подберем группы возможных статистических тестов.\n",
    "5. Просимулируем, чтобы понять, какие тесты лучше подходят.\n",
    "6. Проведем тесты.\n",
    "7. Подведем итоги."
   ]
  },
  {
   "cell_type": "code",
   "execution_count": 56,
   "id": "cf034eb1",
   "metadata": {},
   "outputs": [],
   "source": [
    "# Посчитаем ARPU для каждой из групп\n",
    "\n",
    "a_arpu = ab_df[ab_df.testgroup == 'a'].revenue.mean()\n",
    "b_arpu = ab_df[ab_df.testgroup == 'b'].revenue.mean()"
   ]
  },
  {
   "cell_type": "code",
   "execution_count": 57,
   "id": "c52b3054",
   "metadata": {},
   "outputs": [
    {
     "data": {
      "text/plain": [
       "25.4"
      ]
     },
     "execution_count": 57,
     "metadata": {},
     "output_type": "execute_result"
    }
   ],
   "source": [
    "round(a_arpu, 1)"
   ]
  },
  {
   "cell_type": "code",
   "execution_count": 58,
   "id": "457c41f6",
   "metadata": {},
   "outputs": [
    {
     "data": {
      "text/plain": [
       "26.8"
      ]
     },
     "execution_count": 58,
     "metadata": {},
     "output_type": "execute_result"
    }
   ],
   "source": [
    "round(b_arpu, 1)"
   ]
  },
  {
   "cell_type": "code",
   "execution_count": 59,
   "id": "f0d14d8d",
   "metadata": {},
   "outputs": [
    {
     "data": {
      "text/plain": [
       "5.3"
      ]
     },
     "execution_count": 59,
     "metadata": {},
     "output_type": "execute_result"
    }
   ],
   "source": [
    "# Сравним ARPU\n",
    "round((b_arpu / a_arpu) * 100 - 100, 1)"
   ]
  },
  {
   "cell_type": "markdown",
   "id": "17a7bf5d",
   "metadata": {},
   "source": [
    "ARPU в группе А - 25.4, в группе B - 26.8.\n",
    "ARPU в группе B выше, чем в группе A на 5.3%."
   ]
  },
  {
   "cell_type": "code",
   "execution_count": 60,
   "id": "3bbbee8c",
   "metadata": {},
   "outputs": [],
   "source": [
    "# Сохраним группы покупателей в переменные\n",
    "\n",
    "dist_a = ab_df[(ab_df.testgroup == 'a')\n",
    "               & (ab_df.revenue > 0)]\n",
    "dist_b = ab_df[(ab_df.testgroup == 'b')\n",
    "               & (ab_df.revenue > 0)]"
   ]
  },
  {
   "cell_type": "code",
   "execution_count": 61,
   "id": "376ee412",
   "metadata": {},
   "outputs": [
    {
     "data": {
      "text/plain": [
       "<AxesSubplot:xlabel='revenue', ylabel='Count'>"
      ]
     },
     "execution_count": 61,
     "metadata": {},
     "output_type": "execute_result"
    },
    {
     "data": {
      "image/png": "[encoded data removed]",
      "text/plain": [
       "<Figure size 640x480 with 1 Axes>"
      ]
     },
     "metadata": {},
     "output_type": "display_data"
    }
   ],
   "source": [
    "# Посмотрим на распределения для ARPPU\n",
    "# в группе А\n",
    "\n",
    "sns.histplot(dist_a.revenue)"
   ]
  },
  {
   "cell_type": "code",
   "execution_count": 62,
   "id": "0ad53a19",
   "metadata": {},
   "outputs": [
    {
     "data": {
      "text/plain": [
       "<AxesSubplot:xlabel='revenue', ylabel='Count'>"
      ]
     },
     "execution_count": 62,
     "metadata": {},
     "output_type": "execute_result"
    },
    {
     "data": {
      "image/png": "[encoded data removed]",
      "text/plain": [
       "<Figure size 640x480 with 1 Axes>"
      ]
     },
     "metadata": {},
     "output_type": "display_data"
    }
   ],
   "source": [
    "# Посмотрим на группу А без выбросов\n",
    "\n",
    "sns.histplot(ab_df[(ab_df.testgroup == 'a')\n",
    "                   & (ab_df.revenue > 0)\n",
    "                   & (ab_df.revenue < 35000)].revenue)"
   ]
  },
  {
   "cell_type": "code",
   "execution_count": 63,
   "id": "cb00fb18",
   "metadata": {},
   "outputs": [
    {
     "data": {
      "text/plain": [
       "1805"
      ]
     },
     "execution_count": 63,
     "metadata": {},
     "output_type": "execute_result"
    }
   ],
   "source": [
    "# Посмотрим на кол-во значений без выбросов\n",
    "\n",
    "ab_df[(ab_df.testgroup == 'a')\n",
    "      & (ab_df.revenue > 0)\n",
    "      & (ab_df.revenue < 35000)].shape[0]"
   ]
  },
  {
   "cell_type": "code",
   "execution_count": 64,
   "id": "5760bea6",
   "metadata": {},
   "outputs": [
    {
     "data": {
      "text/plain": [
       "123"
      ]
     },
     "execution_count": 64,
     "metadata": {},
     "output_type": "execute_result"
    }
   ],
   "source": [
    "# Посмотрим на кол-во выбросов\n",
    "\n",
    "ab_df[(ab_df.testgroup == 'a')\n",
    "      & (ab_df.revenue > 35000)].shape[0]"
   ]
  },
  {
   "cell_type": "code",
   "execution_count": 65,
   "id": "69ddfbb1",
   "metadata": {},
   "outputs": [
    {
     "data": {
      "text/plain": [
       "<AxesSubplot:xlabel='revenue', ylabel='Count'>"
      ]
     },
     "execution_count": 65,
     "metadata": {},
     "output_type": "execute_result"
    },
    {
     "data": {
      "image/png": "[encoded data removed]",
      "text/plain": [
       "<Figure size 640x480 with 1 Axes>"
      ]
     },
     "metadata": {},
     "output_type": "display_data"
    }
   ],
   "source": [
    "# в группе B\n",
    "\n",
    "sns.histplot(dist_b.revenue)"
   ]
  },
  {
   "cell_type": "code",
   "execution_count": 66,
   "id": "b8c08c6a",
   "metadata": {},
   "outputs": [
    {
     "data": {
      "text/plain": [
       "1805"
      ]
     },
     "execution_count": 66,
     "metadata": {},
     "output_type": "execute_result"
    }
   ],
   "source": [
    "# Посмотрим на кол-во значений в группе B\n",
    "\n",
    "dist_b.shape[0]"
   ]
  },
  {
   "cell_type": "markdown",
   "id": "737c9b0a",
   "metadata": {},
   "source": [
    "В идеале, нужно было бы посмотреть на группу с выбросами, чтобы понять, это ошибка, фрод, совпадение или действительно есть какая-то логика, которая вписывает ее в общую картину.\n",
    "\n",
    "В данной ситуации можно работать разными способами, среди них выделю 3 варианта:\n",
    "1. Убрать их, оставив только основную группу.\n",
    "2. Работать не со средним в качестве меры центральной тенденции, а с медианой, которая нивелирует эффект Билла Гейтса.\n",
    "3. Работать с тем, что есть, и считать классические метрики."
   ]
  },
  {
   "cell_type": "markdown",
   "id": "7dbd8b81",
   "metadata": {},
   "source": [
    "### Вариант 1.\n",
    "\n",
    "Аргументы:\n",
    "1. Группа выбросов составляет менее 7% от общего кол-ва наблюдений, при этом значения в ней превышают среднее 1й группы более, чем в 100 раз. Это небольшая часть общей выборки, вызывающая эффект Билла Гейтса своим присутствием.\n",
    "2. Распределения в левой части группы А и в группе B похожи на равномерные, а не вытянутые направо длиннохвостовые. Значения не растянуты, они стоят отдельной группой, т.е. группа А состоит из 2х очевидных кластеров, поэтому здесь скорее мы говорим об аномалии, чем об особенностях распределения, но точно это утверждать не можем."
   ]
  },
  {
   "cell_type": "code",
   "execution_count": 67,
   "id": "992099ea",
   "metadata": {},
   "outputs": [],
   "source": [
    "# Сохраним группу А без выбросов\n",
    "\n",
    "dist_ac = ab_df[(ab_df.testgroup == 'a')\n",
    "                & (ab_df.revenue > 0)\n",
    "                & (ab_df.revenue < 35000)]"
   ]
  },
  {
   "cell_type": "code",
   "execution_count": 68,
   "id": "e5834392",
   "metadata": {},
   "outputs": [],
   "source": [
    "# Посчитаем ARPPU\n",
    "# для группы А без выросов\n",
    "\n",
    "arppu_a = round(dist_ac.revenue.mean(), 1)"
   ]
  },
  {
   "cell_type": "code",
   "execution_count": 69,
   "id": "3961b288",
   "metadata": {},
   "outputs": [
    {
     "data": {
      "text/plain": [
       "302.5"
      ]
     },
     "execution_count": 69,
     "metadata": {},
     "output_type": "execute_result"
    }
   ],
   "source": [
    "arppu_a"
   ]
  },
  {
   "cell_type": "code",
   "execution_count": 70,
   "id": "6fc011f9",
   "metadata": {},
   "outputs": [],
   "source": [
    "# ARPPU группы B\n",
    "\n",
    "arppu_b = round(dist_b.revenue.mean(), 1)"
   ]
  },
  {
   "cell_type": "code",
   "execution_count": 71,
   "id": "1bd3e07c",
   "metadata": {},
   "outputs": [
    {
     "data": {
      "text/plain": [
       "3003.7"
      ]
     },
     "execution_count": 71,
     "metadata": {},
     "output_type": "execute_result"
    }
   ],
   "source": [
    "arppu_b"
   ]
  },
  {
   "cell_type": "markdown",
   "id": "1a9f30fe",
   "metadata": {},
   "source": [
    "Для сравнения средних по умолчанию мы выбираем Т-тест.\n",
    "\n",
    "Споры относительно требований к нему не утихают до сих пор, поэтому попробуем удовлетворить обе позиции: проверим, выполняются ли требования, тк возможно, они выполняются, кроме того, проведем симуляции, чтобы определить мощность и тенденцию к ошибке 1го рода. \n",
    "\n",
    "Если же результаты проверки качества нас не удовлетворят, можно будет рассмотреть альтернативные варианты - непараметрический аналог - U-тест Манна-Уитни и Bootstrap."
   ]
  },
  {
   "cell_type": "markdown",
   "id": "abcb6d55",
   "metadata": {},
   "source": [
    "Встречаются 3 основных требования для проведения Т-Теста:\n",
    "1. Равенство выборок. Мы будем проводить Т-тест Уэлча, который нечувствителен к этому параметру.\n",
    "2. Гомоскедастичность, т.е. равенство дисперсий в 2х группах. Для проверки проводится тест Левена, но Т-тест Уэлча хорошо работает и при наличии гомоскедастичности, и при ее отсутствии.\n",
    "3. Нормальность распределений. Проведем тесты Шапиро-Уилка и Д'Агустино-Пирсона, построим QQ-plot'ы."
   ]
  },
  {
   "cell_type": "code",
   "execution_count": 72,
   "id": "2c6d91f7",
   "metadata": {},
   "outputs": [
    {
     "data": {
      "text/plain": [
       "ShapiroResult(statistic=0.9546271562576294, pvalue=3.002848260644267e-23)"
      ]
     },
     "execution_count": 72,
     "metadata": {},
     "output_type": "execute_result"
    }
   ],
   "source": [
    "# Тест Шапиро-Уилка\n",
    "ss.shapiro(dist_ac.revenue)"
   ]
  },
  {
   "cell_type": "code",
   "execution_count": 73,
   "id": "9e2c1404",
   "metadata": {},
   "outputs": [
    {
     "data": {
      "text/plain": [
       "NormaltestResult(statistic=1341.2009917493335, pvalue=5.779697118077758e-292)"
      ]
     },
     "execution_count": 73,
     "metadata": {},
     "output_type": "execute_result"
    }
   ],
   "source": [
    "# Тест Д'Агустино-Пирсона\n",
    "\n",
    "ss.normaltest(dist_ac.revenue)"
   ]
  },
  {
   "cell_type": "code",
   "execution_count": 74,
   "id": "be7b8f3b",
   "metadata": {},
   "outputs": [
    {
     "data": {
      "text/plain": [
       "<AxesSubplot:xlabel='Theoretical quantiles', ylabel='Ordered quantiles'>"
      ]
     },
     "execution_count": 74,
     "metadata": {},
     "output_type": "execute_result"
    },
    {
     "data": {
      "image/png": "[encoded data removed]",
      "text/plain": [
       "<Figure size 640x480 with 1 Axes>"
      ]
     },
     "metadata": {},
     "output_type": "display_data"
    }
   ],
   "source": [
    "# QQ-plot\n",
    "\n",
    "pg.qqplot(dist_ac.revenue)"
   ]
  },
  {
   "cell_type": "markdown",
   "id": "8c44c631",
   "metadata": {},
   "source": [
    "Оба теста при p-value < 0.05 позволяют нам отклонить нулевую гипотезу о том, что распределение нормальное, а qq-plot демонстрирует то, что наш график по большей части находится за рамками 95% доверительного интервала нормального распределения. \n",
    "\n",
    "Интересно, что коэффициент детерминации, т.е. корреляция в квадрате, находится на очень высоком уровне, демонстрируя одну из ситуаций, когда она не работает и причину, почему всегда лучше смотреть не только на цифры, но и на график.\n",
    "\n",
    "Посмотрим на 2е распределение."
   ]
  },
  {
   "cell_type": "code",
   "execution_count": 75,
   "id": "c861f00d",
   "metadata": {},
   "outputs": [
    {
     "data": {
      "text/plain": [
       "ShapiroResult(statistic=0.9583134651184082, pvalue=2.4929213770979496e-22)"
      ]
     },
     "execution_count": 75,
     "metadata": {},
     "output_type": "execute_result"
    }
   ],
   "source": [
    "# Тест Шапиро-Уилка\n",
    "ss.shapiro(dist_b.revenue)"
   ]
  },
  {
   "cell_type": "code",
   "execution_count": 76,
   "id": "a785a6f9",
   "metadata": {},
   "outputs": [
    {
     "data": {
      "text/plain": [
       "NormaltestResult(statistic=1068.8600084412267, pvalue=7.943249488371762e-233)"
      ]
     },
     "execution_count": 76,
     "metadata": {},
     "output_type": "execute_result"
    }
   ],
   "source": [
    "# Тест Д'Агустино-Пирсона\n",
    "\n",
    "ss.normaltest(dist_b.revenue)"
   ]
  },
  {
   "cell_type": "code",
   "execution_count": 77,
   "id": "3f864bdd",
   "metadata": {},
   "outputs": [
    {
     "data": {
      "text/plain": [
       "<AxesSubplot:xlabel='Theoretical quantiles', ylabel='Ordered quantiles'>"
      ]
     },
     "execution_count": 77,
     "metadata": {},
     "output_type": "execute_result"
    },
    {
     "data": {
      "image/png": "[encoded data removed]",
      "text/plain": [
       "<Figure size 640x480 with 1 Axes>"
      ]
     },
     "metadata": {},
     "output_type": "display_data"
    }
   ],
   "source": [
    "# QQ-plot\n",
    "\n",
    "pg.qqplot(dist_b.revenue)"
   ]
  },
  {
   "cell_type": "markdown",
   "id": "662f0bbc",
   "metadata": {},
   "source": [
    "У распределения в группе B аналогичная картина."
   ]
  },
  {
   "cell_type": "markdown",
   "id": "a4863018",
   "metadata": {},
   "source": [
    "Поскольку требования к проведению Т-теста не выполняются, проверим мощность теста и тенденцию к ошибкам 1го рода."
   ]
  },
  {
   "cell_type": "code",
   "execution_count": 78,
   "id": "51eaeaea",
   "metadata": {},
   "outputs": [],
   "source": [
    "# Рассчитаем d Коэна\n",
    "\n",
    "d = (dist_b.revenue.mean() - dist_ac.revenue.mean()) / \\\n",
    "    np.sqrt((np.std(dist_b.revenue) ** 2 + np.std(dist_ac.revenue) ** 2) / 2)"
   ]
  },
  {
   "cell_type": "code",
   "execution_count": 79,
   "id": "659e5e41",
   "metadata": {},
   "outputs": [
    {
     "data": {
      "text/plain": [
       "1.0"
      ]
     },
     "execution_count": 79,
     "metadata": {},
     "output_type": "execute_result"
    }
   ],
   "source": [
    "# Проверяем мощность\n",
    "\n",
    "pg.power_ttest2n(dist_ac.shape[0], \n",
    "                 dist_b.shape[0], \n",
    "                 d=d, \n",
    "                 alpha=0.05)"
   ]
  },
  {
   "cell_type": "code",
   "execution_count": 80,
   "id": "21ec2d72",
   "metadata": {},
   "outputs": [],
   "source": [
    "# Посчитаем разницу между средними для симуляции\n",
    "\n",
    "diff = dist_b.revenue.mean() - dist_ac.revenue.mean()"
   ]
  },
  {
   "cell_type": "code",
   "execution_count": 81,
   "id": "d3a37861",
   "metadata": {},
   "outputs": [],
   "source": [
    "# Вычтем разницу из группы B, чтобы уравнять средние\n",
    "\n",
    "db_equal = dist_b.revenue - diff"
   ]
  },
  {
   "cell_type": "code",
   "execution_count": 82,
   "id": "91b6c919",
   "metadata": {},
   "outputs": [
    {
     "name": "stderr",
     "output_type": "stream",
     "text": [
      "100%|████████████████████████████████████████████████████████████████████████████████████| 1000/1000 [00:15<00:00, 63.22it/s]"
     ]
    },
    {
     "name": "stdout",
     "output_type": "stream",
     "text": [
      "0.06\n"
     ]
    },
    {
     "name": "stderr",
     "output_type": "stream",
     "text": [
      "\n"
     ]
    }
   ],
   "source": [
    "# Проведем симуляцию, чтобы определить тенденцию\n",
    "# к ошибкам 1го рода\n",
    "\n",
    "# Зададим кол-во симуляций\n",
    "n_tt = 1000\n",
    "\n",
    "# Создадим список для сбора результатов\n",
    "results_tt = []\n",
    "\n",
    "# Напишем цикл\n",
    "for _ in tqdm(range(n_tt)):\n",
    "    \n",
    "    # Сгенерируем распределения\n",
    "    # Соберем значения и их частоту\n",
    "    vc_a = dist_ac.revenue.value_counts(normalize=True) \\\n",
    "                          .reset_index() \n",
    "    vc_b = db_equal.value_counts(normalize=True) \\\n",
    "                   .reset_index()     \n",
    "    \n",
    "    # Сформируем списки со значениями и частотами\n",
    "    va = vc_a['index'].to_list()\n",
    "    vb = vc_b['index'].to_list()\n",
    "    fa = vc_a.revenue.to_list()\n",
    "    fb = vc_b.revenue.to_list()\n",
    "    \n",
    "    # Создадим распределения\n",
    "    da = ss.rv_discrete(name='da', values=(va, fa))\n",
    "    db = ss.rv_discrete(name='db', values=(vb, fb))\n",
    "    \n",
    "    # Сгенерируем распредения\n",
    "    dal = da.rvs(size=len(dist_ac))\n",
    "    dbl = db.rvs(size=len(dist_b))\n",
    "    \n",
    "    # Проведем тест\n",
    "    ttest = ss.ttest_ind(dal, dbl, equal_var=False)[1] < 0.05\n",
    "    \n",
    "    # Добавим итог в список\n",
    "    results_tt.append(ttest)\n",
    "    \n",
    "# Выведем процент ошибок 1го рода\n",
    "print(sum(results_tt) / n_tt)"
   ]
  },
  {
   "cell_type": "markdown",
   "id": "f2b5c89e",
   "metadata": {},
   "source": [
    "Как мы видим из симуляций, Т-тест, несмотря на несоответствие распределений требованиям о нормальности, демонстрирует отличную мощность и допустимый процент ошибок 1го рода.\n",
    "\n",
    "Проведем тест с нашими данными."
   ]
  },
  {
   "cell_type": "code",
   "execution_count": 83,
   "id": "c4aec319",
   "metadata": {},
   "outputs": [
    {
     "data": {
      "text/plain": [
       "Ttest_indResult(statistic=-199.3972253399533, pvalue=0.0)"
      ]
     },
     "execution_count": 83,
     "metadata": {},
     "output_type": "execute_result"
    }
   ],
   "source": [
    "ss.ttest_ind(dist_ac.revenue, dist_b.revenue, equal_var=False)"
   ]
  },
  {
   "cell_type": "markdown",
   "id": "2df2a81f",
   "metadata": {},
   "source": [
    "При p-value < 0.05 мы отвергаем нулевую гипотезу и принимаем альтернативную, т.е. признаем разницу между средними 2х групп статистически значимой."
   ]
  },
  {
   "cell_type": "markdown",
   "id": "f0c24b3f",
   "metadata": {},
   "source": [
    "Поскольку мы убрали выбросы группы А при расчете ARPPU, то будет логично убрать их и при расчете конверсии по тем же причинам.\n",
    "\n",
    "Для сравнения кол-ва покупателей в обеих группах посчитаем критерий Хи-квадрат Пирсона таблицы соряженности."
   ]
  },
  {
   "cell_type": "code",
   "execution_count": 84,
   "id": "f4caeab4",
   "metadata": {},
   "outputs": [],
   "source": [
    "# Уберем выбросы из данных\n",
    "\n",
    "df_filtered = ab_df[ab_df.revenue < 35000].copy()"
   ]
  },
  {
   "cell_type": "code",
   "execution_count": 85,
   "id": "1d23a242",
   "metadata": {},
   "outputs": [],
   "source": [
    "# Создадим колонку с оплатами\n",
    "\n",
    "df_filtered['paying'] = df_filtered.revenue > 0"
   ]
  },
  {
   "cell_type": "code",
   "execution_count": 86,
   "id": "8b5964d2",
   "metadata": {},
   "outputs": [],
   "source": [
    "# Соберем таблицу сопряженности\n",
    "\n",
    "ab_ct = pd.crosstab(df_filtered.testgroup,\n",
    "                    df_filtered.paying)"
   ]
  },
  {
   "cell_type": "code",
   "execution_count": 87,
   "id": "f49ef411",
   "metadata": {},
   "outputs": [
    {
     "data": {
      "text/html": [
       "<div>\n",
       "<style scoped>\n",
       "    .dataframe tbody tr th:only-of-type {\n",
       "        vertical-align: middle;\n",
       "    }\n",
       "\n",
       "    .dataframe tbody tr th {\n",
       "        vertical-align: top;\n",
       "    }\n",
       "\n",
       "    .dataframe thead th {\n",
       "        text-align: right;\n",
       "    }\n",
       "</style>\n",
       "<table border=\"1\" class=\"dataframe\">\n",
       "  <thead>\n",
       "    <tr style=\"text-align: right;\">\n",
       "      <th>paying</th>\n",
       "      <th>False</th>\n",
       "      <th>True</th>\n",
       "    </tr>\n",
       "    <tr>\n",
       "      <th>testgroup</th>\n",
       "      <th></th>\n",
       "      <th></th>\n",
       "    </tr>\n",
       "  </thead>\n",
       "  <tbody>\n",
       "    <tr>\n",
       "      <th>a</th>\n",
       "      <td>200175</td>\n",
       "      <td>1805</td>\n",
       "    </tr>\n",
       "    <tr>\n",
       "      <th>b</th>\n",
       "      <td>200862</td>\n",
       "      <td>1805</td>\n",
       "    </tr>\n",
       "  </tbody>\n",
       "</table>\n",
       "</div>"
      ],
      "text/plain": [
       "paying      False  True\n",
       "testgroup              \n",
       "a          200175  1805\n",
       "b          200862  1805"
      ]
     },
     "execution_count": 87,
     "metadata": {},
     "output_type": "execute_result"
    }
   ],
   "source": [
    "ab_ct"
   ]
  },
  {
   "cell_type": "code",
   "execution_count": 88,
   "id": "bd28c588",
   "metadata": {},
   "outputs": [
    {
     "data": {
      "text/plain": [
       "0.9316668591658103"
      ]
     },
     "execution_count": 88,
     "metadata": {},
     "output_type": "execute_result"
    }
   ],
   "source": [
    "# Проведем тест\n",
    "\n",
    "ss.chi2_contingency(ab_ct)[1]"
   ]
  },
  {
   "cell_type": "code",
   "execution_count": 89,
   "id": "7c39c990",
   "metadata": {},
   "outputs": [
    {
     "name": "stderr",
     "output_type": "stream",
     "text": [
      "100%|████████████████████████████████████████████████████████████████████████████████████| 1000/1000 [02:48<00:00,  5.95it/s]"
     ]
    },
    {
     "name": "stdout",
     "output_type": "stream",
     "text": [
      "0.035\n"
     ]
    },
    {
     "name": "stderr",
     "output_type": "stream",
     "text": [
      "\n"
     ]
    }
   ],
   "source": [
    "# Мощность Хи-квадрат\n",
    "\n",
    "# Зададим вероятности для распределений\n",
    "a_prob = df_filtered[df_filtered.testgroup == 'a'].paying.mean()\n",
    "b_prob = df_filtered[df_filtered.testgroup == 'b'].paying.mean()\n",
    "\n",
    "# Зададим размеры выборок\n",
    "a_len = len(df_filtered[df_filtered.testgroup == 'a'])\n",
    "b_len = len(df_filtered[df_filtered.testgroup == 'b'])\n",
    "\n",
    "# Зададим кол-во итераций цикла\n",
    "n_chi = 1000\n",
    "\n",
    "# Создадим список с результатами\n",
    "results_chi = []\n",
    "\n",
    "for _ in tqdm(range(n_chi)):\n",
    "    \n",
    "    # Сгенерируем распределения\n",
    "    a = np.random.binomial(1, a_prob, a_len)\n",
    "    b = np.random.binomial(1, b_prob, b_len)\n",
    "    \n",
    "    # Создадим колонки с подписями\n",
    "    a_sign = ['a'] * a_len\n",
    "    b_sign = ['b'] * b_len\n",
    "    \n",
    "    # Соберем ДФы\n",
    "    df_a = pd.DataFrame({'group': a_sign,\n",
    "                         'paying': a})\n",
    "    df_b = pd.DataFrame({'group': b_sign,\n",
    "                         'paying': b})\n",
    "    \n",
    "    # Объединим ДФы\n",
    "    df = pd.concat([df_a, df_b])\n",
    "    \n",
    "    # Соберем таблицу сопряженности\n",
    "    ct = pd.crosstab(df.group, df.paying)\n",
    "    \n",
    "    # Проведем тест\n",
    "    result = ss.chi2_contingency(ct)[1] < 0.05\n",
    "    \n",
    "    # Запишем результат в список\n",
    "    results_chi.append(result)\n",
    "    \n",
    "# Выведем мощность\n",
    "print(sum(results_chi) / n_chi)    "
   ]
  },
  {
   "cell_type": "markdown",
   "id": "d9b39212",
   "metadata": {},
   "source": [
    "При p-value > 0.05 нас нет оснований отклонить нулевую гипотезу об обсутствии отличий между фактическими данными и ождиаемыми. При этом мощность теста находится на очень низком уровне, т.е. вероятность задетектировать различия такого размера в этой ситуации близится к нулю.\n",
    "\n",
    "Посмотрим на альтернативу - точный тест Фишера."
   ]
  },
  {
   "cell_type": "code",
   "execution_count": 90,
   "id": "1397f14a",
   "metadata": {},
   "outputs": [
    {
     "data": {
      "text/plain": [
       "0.920108418523283"
      ]
     },
     "execution_count": 90,
     "metadata": {},
     "output_type": "execute_result"
    }
   ],
   "source": [
    "# Проведем тест\n",
    "\n",
    "ss.fisher_exact(ab_ct)[1]"
   ]
  },
  {
   "cell_type": "code",
   "execution_count": 91,
   "id": "9e61a1d9",
   "metadata": {},
   "outputs": [
    {
     "name": "stderr",
     "output_type": "stream",
     "text": [
      "100%|████████████████████████████████████████████████████████████████████████████████████| 1000/1000 [02:57<00:00,  5.65it/s]"
     ]
    },
    {
     "name": "stdout",
     "output_type": "stream",
     "text": [
      "0.047\n"
     ]
    },
    {
     "name": "stderr",
     "output_type": "stream",
     "text": [
      "\n"
     ]
    }
   ],
   "source": [
    "# Мощность теста Фишера\n",
    "\n",
    "# Зададим кол-во итераций цикла\n",
    "n_ft = 1000\n",
    "\n",
    "# Создадим список с результатами\n",
    "results_fisher = []\n",
    "\n",
    "for _ in tqdm(range(n_ft)):\n",
    "    \n",
    "    # Сгенерируем распределения\n",
    "    a = np.random.binomial(1, a_prob, a_len)\n",
    "    b = np.random.binomial(1, b_prob, b_len)\n",
    "    \n",
    "    # Создадим колонки с подписями\n",
    "    a_sign = ['a'] * a_len\n",
    "    b_sign = ['b'] * b_len\n",
    "    \n",
    "    # Соберем ДФы\n",
    "    df_a = pd.DataFrame({'group': a_sign,\n",
    "                         'paying': a})\n",
    "    df_b = pd.DataFrame({'group': b_sign,\n",
    "                         'paying': b})\n",
    "    \n",
    "    # Объединим ДФы\n",
    "    df = pd.concat([df_a, df_b])\n",
    "    \n",
    "    # Соберем таблицу сопряженности\n",
    "    ct = pd.crosstab(df.group, df.paying)\n",
    "    \n",
    "    # Проведем тест\n",
    "    result = ss.fisher_exact(ct)[1] < 0.05\n",
    "    \n",
    "    # Запишем результат в список\n",
    "    results_fisher.append(result)\n",
    "    \n",
    "# Выведем мощность\n",
    "print(sum(results_fisher) / n_ft) "
   ]
  },
  {
   "cell_type": "markdown",
   "id": "9fa6b10b",
   "metadata": {},
   "source": [
    "С тестом Фишера картина аналогичная.\n",
    "\n",
    "На примере Хи-Квадрат посмотрим, какой размер выборки поможет задетектировать эффект такого размера с приемлемым уровнем мощности."
   ]
  },
  {
   "cell_type": "code",
   "execution_count": 92,
   "id": "00a5f2c9",
   "metadata": {},
   "outputs": [
    {
     "name": "stderr",
     "output_type": "stream",
     "text": [
      "100%|████████████████████████████████████████████████████████████████████████████████████████| 10/10 [00:02<00:00,  4.87it/s]\n"
     ]
    },
    {
     "name": "stdout",
     "output_type": "stream",
     "text": [
      "0.0 201980\n"
     ]
    },
    {
     "name": "stderr",
     "output_type": "stream",
     "text": [
      "100%|████████████████████████████████████████████████████████████████████████████████████████| 10/10 [00:04<00:00,  2.48it/s]\n"
     ]
    },
    {
     "name": "stdout",
     "output_type": "stream",
     "text": [
      "0.2 403960\n"
     ]
    },
    {
     "name": "stderr",
     "output_type": "stream",
     "text": [
      "100%|████████████████████████████████████████████████████████████████████████████████████████| 10/10 [00:06<00:00,  1.52it/s]\n"
     ]
    },
    {
     "name": "stdout",
     "output_type": "stream",
     "text": [
      "0.1 807920\n"
     ]
    },
    {
     "name": "stderr",
     "output_type": "stream",
     "text": [
      "100%|████████████████████████████████████████████████████████████████████████████████████████| 10/10 [00:15<00:00,  1.53s/it]\n"
     ]
    },
    {
     "name": "stdout",
     "output_type": "stream",
     "text": [
      "0.0 1615840\n"
     ]
    },
    {
     "name": "stderr",
     "output_type": "stream",
     "text": [
      "100%|████████████████████████████████████████████████████████████████████████████████████████| 10/10 [00:28<00:00,  2.82s/it]\n"
     ]
    },
    {
     "name": "stdout",
     "output_type": "stream",
     "text": [
      "0.0 3231680\n"
     ]
    },
    {
     "name": "stderr",
     "output_type": "stream",
     "text": [
      "100%|████████████████████████████████████████████████████████████████████████████████████████| 10/10 [01:00<00:00,  6.06s/it]"
     ]
    },
    {
     "name": "stdout",
     "output_type": "stream",
     "text": [
      "0.0 6463360\n"
     ]
    },
    {
     "name": "stderr",
     "output_type": "stream",
     "text": [
      "\n"
     ]
    }
   ],
   "source": [
    "# Заведем переменную для проверки\n",
    "power = 0\n",
    "\n",
    "# Заведем списки для графика\n",
    "powers = []\n",
    "lens = []\n",
    "\n",
    "# Проверка перед каждой итерацией\n",
    "while power < 0.8 \\\n",
    "      and a_len < 10000000:\n",
    "\n",
    "    # Создадим список с результатами\n",
    "    results_chi = []\n",
    "\n",
    "    # Запустим цикл\n",
    "    for _ in tqdm(range(10)):\n",
    "\n",
    "        # Сгенерируем распределения\n",
    "        a = np.random.binomial(1, a_prob, a_len)\n",
    "        b = np.random.binomial(1, b_prob, b_len)\n",
    "\n",
    "        # Создадим колонки с подписями\n",
    "        a_sign = ['a'] * a_len\n",
    "        b_sign = ['b'] * b_len\n",
    "\n",
    "        # Соберем ДФы\n",
    "        df_a = pd.DataFrame({'group': a_sign,\n",
    "                             'paying': a})\n",
    "        df_b = pd.DataFrame({'group': b_sign,\n",
    "                             'paying': b})\n",
    "\n",
    "        # Объединим ДФы\n",
    "        df = pd.concat([df_a, df_b])\n",
    "\n",
    "        # Соберем таблицу сопряженности\n",
    "        ct = pd.crosstab(df.group, df.paying)\n",
    "\n",
    "        # Проведем тест\n",
    "        result = ss.chi2_contingency(ct)[1] < 0.05\n",
    "\n",
    "        # Запишем результат в список\n",
    "        results_chi.append(result)\n",
    "\n",
    "    # Посчитаем мощность\n",
    "    power = sum(results_chi) / 10\n",
    "    \n",
    "    # Выводим после каждой итерации мощность \n",
    "    # и размер выборки\n",
    "    print(power, a_len)\n",
    "    \n",
    "    # Сохраняем их в список для визуализации\n",
    "    powers.append(power)\n",
    "    lens.append(a_len)\n",
    "    \n",
    "    # Увеличим размер выборки\n",
    "    # для следующей итерации\n",
    "    a_len *= 2\n",
    "    b_len *= 2"
   ]
  },
  {
   "cell_type": "markdown",
   "id": "6e776d8a",
   "metadata": {},
   "source": [
    "Даже при миллионных выборках мощность теста остается на неприемлемом уровне, очевидно, что настолько небольшой эффект в реальных условиях зафиксировать практически невозможно.\n",
    "\n",
    "Смысла в визуализации в данной ситуации нет.\n",
    "\n",
    "\\**Все симуляции нужно проводить хотя бы с 1000 итераций, а лучше с 10000, но в данном случае мы преследовали цель показать наличие такой возможности и ход мысли. В дальнейшем, с целью экономии ресурсов, мы также будем сокращать количество итераций в некоторых симуляциях, помня о том, что в рабочих условиях есть определенные требования.*"
   ]
  },
  {
   "cell_type": "markdown",
   "id": "cb427a9d",
   "metadata": {},
   "source": [
    "### Вариант 1. Итог.\n",
    "\n",
    "ARPPU у группы B выше и статистически значимо отличается от группы А.\n",
    "\n",
    "Конверсия в покупателя находится в обеих группах примерно на одном уровне, зафиксировать статистически значимые различия, даже если они присутствуют, при такой разнице практически невозможно.\n",
    "\n",
    "Как следствие, ARPU в группе B также выше.\n",
    "\n",
    "Набор акционных предложений для группы B показал себя лучше."
   ]
  },
  {
   "cell_type": "markdown",
   "id": "c6364265",
   "metadata": {},
   "source": [
    "### Вариант 2.\n",
    "Аргументы те же, что и в 1м варианте, но другой подход к работе с распределениями."
   ]
  },
  {
   "cell_type": "markdown",
   "id": "e43ec2e0",
   "metadata": {},
   "source": [
    "В этом варианте мы будем работать не со средним в качестве меры центральной тенденции, а с медианой, т.к. есть выбросы, т.е. вычислять будем не классический ARPPU, т.к. там используется среднее арифметическое, а несколько измененный.\n",
    "\n",
    "Сравнивать медианы будем с помощью Bootstrap."
   ]
  },
  {
   "cell_type": "code",
   "execution_count": 93,
   "id": "dc9be4e5",
   "metadata": {},
   "outputs": [],
   "source": [
    "# Вычислим медианы для 2х групп\n",
    "\n",
    "median_a = dist_a.revenue.median()\n",
    "median_b = dist_b.revenue.median()"
   ]
  },
  {
   "cell_type": "code",
   "execution_count": 94,
   "id": "cecef9a2",
   "metadata": {},
   "outputs": [
    {
     "data": {
      "text/plain": [
       "311.0"
      ]
     },
     "execution_count": 94,
     "metadata": {},
     "output_type": "execute_result"
    }
   ],
   "source": [
    "median_a"
   ]
  },
  {
   "cell_type": "code",
   "execution_count": 95,
   "id": "5dbb6a16",
   "metadata": {},
   "outputs": [
    {
     "data": {
      "text/plain": [
       "3022.0"
      ]
     },
     "execution_count": 95,
     "metadata": {},
     "output_type": "execute_result"
    }
   ],
   "source": [
    "median_b"
   ]
  },
  {
   "cell_type": "code",
   "execution_count": 96,
   "id": "5f58a999",
   "metadata": {},
   "outputs": [
    {
     "data": {
      "text/plain": [
       "array([2656., 2760.])"
      ]
     },
     "execution_count": 96,
     "metadata": {},
     "output_type": "execute_result"
    }
   ],
   "source": [
    "# Bootstrap\n",
    "\n",
    "pg.compute_bootci(dist_b.revenue, \n",
    "                  dist_a.revenue, \n",
    "                  n_boot=10000, \n",
    "                  func=lambda x, y: np.median(x) - np.median(y))"
   ]
  },
  {
   "cell_type": "code",
   "execution_count": 97,
   "id": "254ec0db",
   "metadata": {},
   "outputs": [],
   "source": [
    "# Посчитаем разницу между медианами для симуляции\n",
    "\n",
    "diff_bs = dist_b.revenue.median() - dist_a.revenue.median()"
   ]
  },
  {
   "cell_type": "code",
   "execution_count": 98,
   "id": "b749476c",
   "metadata": {},
   "outputs": [],
   "source": [
    "# Вычтем разницу из группы B, чтобы уравнять средние\n",
    "\n",
    "db_equal_bs = dist_b.revenue - diff_bs"
   ]
  },
  {
   "cell_type": "code",
   "execution_count": 99,
   "id": "0c3a2951",
   "metadata": {},
   "outputs": [
    {
     "name": "stderr",
     "output_type": "stream",
     "text": [
      "100%|██████████████████████████████████████████████████████████████████████████████████████| 100/100 [06:49<00:00,  4.10s/it]"
     ]
    },
    {
     "name": "stdout",
     "output_type": "stream",
     "text": [
      "0.08\n"
     ]
    },
    {
     "name": "stderr",
     "output_type": "stream",
     "text": [
      "\n"
     ]
    }
   ],
   "source": [
    "# Тенденция Bootstrap совершать ошибки 1го рода\n",
    "\n",
    "# Зададим кол-во симуляций\n",
    "n_bs = 100\n",
    "\n",
    "# Создадим список для сбора результатов\n",
    "results_bs = []\n",
    "\n",
    "# Напишем цикл\n",
    "for _ in tqdm(range(n_bs)):\n",
    "    \n",
    "    # Сгенерируем распределения\n",
    "    # Соберем значения и их частоту\n",
    "    vc_a = dist_a.revenue.value_counts(normalize=True) \\\n",
    "                         .reset_index() \n",
    "    vc_b = db_equal_bs.value_counts(normalize=True) \\\n",
    "                      .reset_index()     \n",
    "    \n",
    "    # Сформируем списки со значениями и частотами\n",
    "    va = vc_a['index'].to_list()\n",
    "    vb = vc_b['index'].to_list()\n",
    "    fa = vc_a.revenue.to_list()\n",
    "    fb = vc_b.revenue.to_list()\n",
    "    \n",
    "    # Создадим распределения\n",
    "    da = ss.rv_discrete(name='da', values=(va, fa))\n",
    "    db = ss.rv_discrete(name='db', values=(vb, fb))\n",
    "    \n",
    "    # Сгенерируем распредения\n",
    "    dal = da.rvs(size=len(dist_a))\n",
    "    dbl = db.rvs(size=len(dist_b))\n",
    "    \n",
    "    # Проведем тест\n",
    "    bs = pg.compute_bootci(dal, \n",
    "                           dbl, \n",
    "                           n_boot=10000, \n",
    "                           func=lambda x, y: np.median(x) - np.median(y)) \n",
    "    \n",
    "    # Сохраним результат\n",
    "    result = np.sign(bs[0]) == np.sign(bs[1])\n",
    "    \n",
    "    # Добавим результат в список\n",
    "    results_bs.append(result)\n",
    "    \n",
    "# Выведем процент ошибок 1го рода\n",
    "print(sum(results_bs) / n_bs)"
   ]
  },
  {
   "cell_type": "markdown",
   "id": "66fb2d0e",
   "metadata": {},
   "source": [
    "Доверительный интервал разницы медиан 2х групп сильно смещен и не пересекается с нулем, процент ошибок 1го рода низкий, а это значит, что у нас есть все основания полагать, что медианы отличаются статистически значимо, т.е. вывод, сделанный в 1м варианте подтверждается и во втором.\n",
    "\n",
    "Посмотрим на конверсию."
   ]
  },
  {
   "cell_type": "code",
   "execution_count": 100,
   "id": "34b4ddaa",
   "metadata": {},
   "outputs": [],
   "source": [
    "# Создадим колонку с оплатами\n",
    "\n",
    "ab_df['paying'] = ab_df.revenue > 0"
   ]
  },
  {
   "cell_type": "code",
   "execution_count": 101,
   "id": "37a5f133",
   "metadata": {},
   "outputs": [
    {
     "data": {
      "text/plain": [
       "0.95"
      ]
     },
     "execution_count": 101,
     "metadata": {},
     "output_type": "execute_result"
    }
   ],
   "source": [
    "# Посмотрим на конверсию\n",
    "# в группе А\n",
    "\n",
    "round((sum(ab_df[ab_df.testgroup == 'a'].paying) \\\n",
    "        / len(ab_df[ab_df.testgroup == 'a'])) * 100, 2)"
   ]
  },
  {
   "cell_type": "code",
   "execution_count": 102,
   "id": "d28fd290",
   "metadata": {},
   "outputs": [
    {
     "data": {
      "text/plain": [
       "0.89"
      ]
     },
     "execution_count": 102,
     "metadata": {},
     "output_type": "execute_result"
    }
   ],
   "source": [
    "# в группе B\n",
    "\n",
    "round((sum(ab_df[ab_df.testgroup == 'b'].paying) \\\n",
    "        / len(ab_df[ab_df.testgroup == 'b'])) * 100, 2)"
   ]
  },
  {
   "cell_type": "code",
   "execution_count": 103,
   "id": "5b0342fe",
   "metadata": {},
   "outputs": [],
   "source": [
    "# Соберем таблицу сопряженности\n",
    "\n",
    "full_ct = pd.crosstab(ab_df.testgroup,\n",
    "                      ab_df.paying)"
   ]
  },
  {
   "cell_type": "code",
   "execution_count": 104,
   "id": "a1a2facc",
   "metadata": {},
   "outputs": [
    {
     "data": {
      "text/plain": [
       "0.03647561892312613"
      ]
     },
     "execution_count": 104,
     "metadata": {},
     "output_type": "execute_result"
    }
   ],
   "source": [
    "# Проведем тест\n",
    "\n",
    "ss.chi2_contingency(full_ct)[1]"
   ]
  },
  {
   "cell_type": "code",
   "execution_count": 105,
   "id": "4a351e0a",
   "metadata": {},
   "outputs": [
    {
     "name": "stderr",
     "output_type": "stream",
     "text": [
      "100%|████████████████████████████████████████████████████████████████████████████████████| 1000/1000 [02:59<00:00,  5.56it/s]"
     ]
    },
    {
     "name": "stdout",
     "output_type": "stream",
     "text": [
      "0.046\n"
     ]
    },
    {
     "name": "stderr",
     "output_type": "stream",
     "text": [
      "\n"
     ]
    }
   ],
   "source": [
    "# Тенденция Хи-квадрат совершать ошибки 1го рода\n",
    "\n",
    "# Зададим вероятность для распределений\n",
    "ap = ab_df[ab_df.testgroup == 'a'].paying.mean()\n",
    "\n",
    "# Зададим размеры выборок\n",
    "al = len(ab_df[ab_df.testgroup == 'a'])\n",
    "bl = len(ab_df[ab_df.testgroup == 'b'])\n",
    "\n",
    "# Зададим кол-во итераций цикла\n",
    "n_chi_c = 1000\n",
    "\n",
    "# Создадим список с результатами\n",
    "results_chi_c = []\n",
    "\n",
    "for _ in tqdm(range(n_chi_c)):\n",
    "    \n",
    "    # Сгенерируем распределения c одинаковой вероятностью\n",
    "    a = np.random.binomial(1, ap, al)\n",
    "    b = np.random.binomial(1, ap, bl)\n",
    "    \n",
    "    # Создадим колонки с подписями\n",
    "    a_sign = ['a'] * al\n",
    "    b_sign = ['b'] * bl\n",
    "    \n",
    "    # Соберем ДФы\n",
    "    df_a = pd.DataFrame({'group': a_sign,\n",
    "                         'paying': a})\n",
    "    df_b = pd.DataFrame({'group': b_sign,\n",
    "                         'paying': b})\n",
    "    \n",
    "    # Объединим ДФы\n",
    "    df = pd.concat([df_a, df_b])\n",
    "    \n",
    "    # Соберем таблицу сопряженности\n",
    "    ct = pd.crosstab(df.group, df.paying)\n",
    "    \n",
    "    # Проведем тест\n",
    "    result = ss.chi2_contingency(ct)[1] < 0.05\n",
    "    \n",
    "    # Запишем результат в список\n",
    "    results_chi_c.append(result)\n",
    "    \n",
    "# Выведем процент ошибок 1го рода\n",
    "print(sum(results_chi_c) / n_chi_c) "
   ]
  },
  {
   "cell_type": "markdown",
   "id": "b8770ed0",
   "metadata": {},
   "source": [
    "При p-value < 0.05 и приемлемом уровне процента ошибок 1го рода у нас есть все основания, чтобы отвергнуть нулевую гипотезу и принять альтернативную - значения в таблице сопряженности статистически значимо отличаются от ожидаемых."
   ]
  },
  {
   "cell_type": "markdown",
   "id": "dc9bf259",
   "metadata": {},
   "source": [
    "### Вариант 2. Итог.\n",
    "Поскольку группа А демонстрирует более высокую конверсию, а группа B - более высокий ARPPU(медиану), для того, чтобы решить, какой набор лучше, необходимо посмотреть на результирующую, т.е. на ARPU(также медиану), но большинство значений revenue в наших группах это 0, поэтому обе медианы будут равны 0. \n",
    "\n",
    "В такой ситуации можно ориентироваться на нашу юнит-экономику: делать выбор, исходя из того, как изменения той или иной метрики влияет на нашу прибыль, какая из них важнее, но с этим набором данных в этом варианте однозначный вывод сделать нельзя."
   ]
  },
  {
   "cell_type": "markdown",
   "id": "6d303c89",
   "metadata": {},
   "source": [
    "### Вариант 3.\n",
    "\n",
    "Есть вероятность, что именно в такой разнице между предложениями и заключался эксперимент. На примере коллекционной карточной игры:\n",
    "1. Первой группе дали возможность делать точечные покупки, приобретать отдельные карты за очень небольшую плату, а также вариант купить всю коллекцию за значительную сумму.\n",
    "2. Продают паки с картами примерно по одной цене.\n",
    "\n",
    "В такой ситуации выбросы с точки зрения статистики, вероятно, нельзя назвать выбросами, это скорее небольшая спрогнозированная группа крупных покупателей и срезать их медианой, а тем более удалять из данных - будет неправильно, т.к. мы хотим понять, сколько в итоге заработаем с учетом именно такого большого разрыва в предложениях.\n",
    "\n",
    "Для этого варианта посчитаем ARPPU со средними арифметическими."
   ]
  },
  {
   "cell_type": "code",
   "execution_count": 106,
   "id": "3eb42f28",
   "metadata": {},
   "outputs": [
    {
     "data": {
      "text/plain": [
       "2663.9984439834025"
      ]
     },
     "execution_count": 106,
     "metadata": {},
     "output_type": "execute_result"
    }
   ],
   "source": [
    "# Посчитаем ARPPU\n",
    "\n",
    "dist_a.revenue.mean()"
   ]
  },
  {
   "cell_type": "code",
   "execution_count": 107,
   "id": "ad3a7a5f",
   "metadata": {},
   "outputs": [
    {
     "data": {
      "text/plain": [
       "3003.6581717451522"
      ]
     },
     "execution_count": 107,
     "metadata": {},
     "output_type": "execute_result"
    }
   ],
   "source": [
    "dist_b.revenue.mean()"
   ]
  },
  {
   "cell_type": "markdown",
   "id": "5b6dd2b3",
   "metadata": {},
   "source": [
    "Проверим качество Т-теста."
   ]
  },
  {
   "cell_type": "code",
   "execution_count": 108,
   "id": "dc9e760d",
   "metadata": {},
   "outputs": [],
   "source": [
    "# Рассчитаем d Коэна\n",
    "\n",
    "d2 = (dist_b.revenue.mean() - dist_a.revenue.mean()) / \\\n",
    "     np.sqrt((np.std(dist_b.revenue) ** 2 + np.std(dist_a.revenue) ** 2) / 2)"
   ]
  },
  {
   "cell_type": "code",
   "execution_count": 109,
   "id": "7f7fe754",
   "metadata": {},
   "outputs": [
    {
     "data": {
      "text/plain": [
       "0.3661862179309084"
      ]
     },
     "execution_count": 109,
     "metadata": {},
     "output_type": "execute_result"
    }
   ],
   "source": [
    "# Проверяем мощность\n",
    "\n",
    "pg.power_ttest2n(dist_a.shape[0], \n",
    "                 dist_b.shape[0], \n",
    "                 d=d2, \n",
    "                 alpha=0.05)"
   ]
  },
  {
   "cell_type": "markdown",
   "id": "5e362efd",
   "metadata": {},
   "source": [
    "Здесь, в отличие от 1го варианта, разница между средними значительно ниже, а в распределение А добавились выбросы, что в сопокупности сильно понизило мощность теста. Посмотрим на непараметрику - U-тест Манна-Уитни."
   ]
  },
  {
   "cell_type": "code",
   "execution_count": 110,
   "id": "ed9b03a8",
   "metadata": {},
   "outputs": [
    {
     "name": "stderr",
     "output_type": "stream",
     "text": [
      "100%|████████████████████████████████████████████████████████████████████████████████████| 1000/1000 [00:20<00:00, 48.99it/s]"
     ]
    },
    {
     "name": "stdout",
     "output_type": "stream",
     "text": [
      "1.0\n"
     ]
    },
    {
     "name": "stderr",
     "output_type": "stream",
     "text": [
      "\n"
     ]
    }
   ],
   "source": [
    "# Мощность U-теста\n",
    "\n",
    "# Зададим кол-во симуляций\n",
    "n_mw = 1000\n",
    "\n",
    "# Создадим список для сбора результатов\n",
    "results_mw = []\n",
    "\n",
    "# Напишем цикл\n",
    "for _ in tqdm(range(n_mw)):\n",
    "    \n",
    "    # Сгенерируем распределения\n",
    "    # Соберем значения и их частоту\n",
    "    vc_a = dist_a.revenue.value_counts(normalize=True) \\\n",
    "                         .reset_index() \n",
    "    vc_b = dist_b.revenue.value_counts(normalize=True) \\\n",
    "                         .reset_index()     \n",
    "    \n",
    "    # Сформируем списки со значениями и частотами\n",
    "    va = vc_a['index'].to_list()\n",
    "    vb = vc_b['index'].to_list()\n",
    "    fa = vc_a.revenue.to_list()\n",
    "    fb = vc_b.revenue.to_list()\n",
    "    \n",
    "    # Создадим распределения\n",
    "    da = ss.rv_discrete(name='da', values=(va, fa))\n",
    "    db = ss.rv_discrete(name='db', values=(vb, fb))\n",
    "    \n",
    "    # Сгенерируем распредения\n",
    "    dal = da.rvs(size=len(dist_a))\n",
    "    dbl = db.rvs(size=len(dist_b))\n",
    "    \n",
    "    # Проведем тест\n",
    "    result = ss.mannwhitneyu(dal, dbl)[1] < 0.05\n",
    "    \n",
    "    # Добавим результат в список\n",
    "    results_mw.append(result)\n",
    "    \n",
    "# Выведем процент ошибок 1го рода\n",
    "print(sum(results_mw) / n_mw)"
   ]
  },
  {
   "cell_type": "code",
   "execution_count": 111,
   "id": "a1460b8a",
   "metadata": {},
   "outputs": [],
   "source": [
    "# Посчитаем разницу между средними для симуляции\n",
    "\n",
    "diff_mw = dist_b.revenue.mean() - dist_a.revenue.mean()"
   ]
  },
  {
   "cell_type": "code",
   "execution_count": 112,
   "id": "b14c8274",
   "metadata": {},
   "outputs": [],
   "source": [
    "# Вычтем разницу из группы B, чтобы уравнять средние\n",
    "\n",
    "db_equal_mw = dist_b.revenue - diff_mw"
   ]
  },
  {
   "cell_type": "code",
   "execution_count": 113,
   "id": "bef3058a",
   "metadata": {},
   "outputs": [
    {
     "name": "stderr",
     "output_type": "stream",
     "text": [
      "100%|████████████████████████████████████████████████████████████████████████████████████| 1000/1000 [00:20<00:00, 48.29it/s]"
     ]
    },
    {
     "name": "stdout",
     "output_type": "stream",
     "text": [
      "1.0\n"
     ]
    },
    {
     "name": "stderr",
     "output_type": "stream",
     "text": [
      "\n"
     ]
    }
   ],
   "source": [
    "# Тенденция к ошибкам 1го рода\n",
    "\n",
    "# Зададим кол-во симуляций\n",
    "n_mw2 = 1000\n",
    "\n",
    "# Создадим список для сбора результатов\n",
    "results_mw2 = []\n",
    "\n",
    "# Напишем цикл\n",
    "for _ in tqdm(range(n_mw2)):\n",
    "    \n",
    "    # Сгенерируем распределения\n",
    "    # Соберем значения и их частоту\n",
    "    vc_a = dist_a.revenue.value_counts(normalize=True) \\\n",
    "                         .reset_index() \n",
    "    vc_b = db_equal_mw.value_counts(normalize=True) \\\n",
    "                      .reset_index()     \n",
    "    \n",
    "    # Сформируем списки со значениями и частотами\n",
    "    va = vc_a['index'].to_list()\n",
    "    vb = vc_b['index'].to_list()\n",
    "    fa = vc_a.revenue.to_list()\n",
    "    fb = vc_b.revenue.to_list()\n",
    "    \n",
    "    # Создадим распределения\n",
    "    da = ss.rv_discrete(name='da', values=(va, fa))\n",
    "    db = ss.rv_discrete(name='db', values=(vb, fb))\n",
    "    \n",
    "    # Сгенерируем распредения\n",
    "    dal = da.rvs(size=len(dist_a))\n",
    "    dbl = db.rvs(size=len(dist_b))\n",
    "    \n",
    "    # Проведем тест\n",
    "    result = ss.mannwhitneyu(dal, dbl)[1] < 0.05\n",
    "    \n",
    "    # Добавим результат в список\n",
    "    results_mw2.append(result)\n",
    "    \n",
    "# Выведем процент ошибок 1го рода\n",
    "print(sum(results_mw2) / n_mw2)"
   ]
  },
  {
   "cell_type": "markdown",
   "id": "c9cae0d0",
   "metadata": {},
   "source": [
    "Тест Манна-Уитни детектирует различия почти всегда, даже если их нет, поэтому это тоже плохой вариант.\n",
    "\n",
    "Посмотрим на Bootstrap."
   ]
  },
  {
   "cell_type": "code",
   "execution_count": 114,
   "id": "14bbb52a",
   "metadata": {},
   "outputs": [
    {
     "name": "stderr",
     "output_type": "stream",
     "text": [
      "100%|██████████████████████████████████████████████████████████████████████████████████████| 100/100 [03:17<00:00,  1.97s/it]"
     ]
    },
    {
     "name": "stdout",
     "output_type": "stream",
     "text": [
      "0.33\n"
     ]
    },
    {
     "name": "stderr",
     "output_type": "stream",
     "text": [
      "\n"
     ]
    }
   ],
   "source": [
    "# Мощность Bootstrap\n",
    "\n",
    "# Зададим кол-во симуляций\n",
    "n_bs2 = 100\n",
    "\n",
    "# Создадим список для сбора результатов\n",
    "results_bs2 = []\n",
    "\n",
    "# Напишем цикл\n",
    "for _ in tqdm(range(n_bs2)):\n",
    "    \n",
    "    # Сгенерируем распределения\n",
    "    # Соберем значения и их частоту\n",
    "    vc_a = dist_a.revenue.value_counts(normalize=True) \\\n",
    "                         .reset_index() \n",
    "    vc_b = dist_b.revenue.value_counts(normalize=True) \\\n",
    "                         .reset_index()     \n",
    "    \n",
    "    # Сформируем списки со значениями и частотами\n",
    "    va = vc_a['index'].to_list()\n",
    "    vb = vc_b['index'].to_list()\n",
    "    fa = vc_a.revenue.to_list()\n",
    "    fb = vc_b.revenue.to_list()\n",
    "    \n",
    "    # Создадим распределения\n",
    "    da = ss.rv_discrete(name='da', values=(va, fa))\n",
    "    db = ss.rv_discrete(name='db', values=(vb, fb))\n",
    "    \n",
    "    # Сгенерируем распредения\n",
    "    dal = da.rvs(size=len(dist_a))\n",
    "    dbl = db.rvs(size=len(dist_b))\n",
    "    \n",
    "    # Проведем тест\n",
    "    bs = pg.compute_bootci(dal, \n",
    "                           dbl, \n",
    "                           n_boot=10000, \n",
    "                           func=lambda x, y: np.mean(x) - np.mean(y)) \n",
    "    \n",
    "    # Сохраним результат\n",
    "    result = np.sign(bs[0]) == np.sign(bs[1])\n",
    "    \n",
    "    # Добавим результат в список\n",
    "    results_bs2.append(result)\n",
    "    \n",
    "# Выведем процент ошибок 1го рода\n",
    "print(sum(results_bs2) / n_bs2)"
   ]
  },
  {
   "cell_type": "code",
   "execution_count": 115,
   "id": "e7666b8c",
   "metadata": {},
   "outputs": [
    {
     "name": "stderr",
     "output_type": "stream",
     "text": [
      "100%|██████████████████████████████████████████████████████████████████████████████████████| 100/100 [03:20<00:00,  2.00s/it]"
     ]
    },
    {
     "name": "stdout",
     "output_type": "stream",
     "text": [
      "0.07\n"
     ]
    },
    {
     "name": "stderr",
     "output_type": "stream",
     "text": [
      "\n"
     ]
    }
   ],
   "source": [
    "# Тенденция Bootstrap ошибаться\n",
    "\n",
    "# Зададим кол-во симуляций\n",
    "n_bs3 = 100\n",
    "\n",
    "# Создадим список для сбора результатов\n",
    "results_bs3 = []\n",
    "\n",
    "# Напишем цикл\n",
    "for _ in tqdm(range(n_bs3)):\n",
    "    \n",
    "    # Сгенерируем распределения\n",
    "    # Соберем значения и их частоту\n",
    "    vc_a = dist_a.revenue.value_counts(normalize=True) \\\n",
    "                         .reset_index() \n",
    "    vc_b = db_equal_mw.value_counts(normalize=True) \\\n",
    "                      .reset_index()     \n",
    "    \n",
    "    # Сформируем списки со значениями и частотами\n",
    "    va = vc_a['index'].to_list()\n",
    "    vb = vc_b['index'].to_list()\n",
    "    fa = vc_a.revenue.to_list()\n",
    "    fb = vc_b.revenue.to_list()\n",
    "    \n",
    "    # Создадим распределения\n",
    "    da = ss.rv_discrete(name='da', values=(va, fa))\n",
    "    db = ss.rv_discrete(name='db', values=(vb, fb))\n",
    "    \n",
    "    # Сгенерируем распредения\n",
    "    dal = da.rvs(size=len(dist_a))\n",
    "    dbl = db.rvs(size=len(dist_b))\n",
    "    \n",
    "    # Проведем тест\n",
    "    bs = pg.compute_bootci(dal, \n",
    "                           dbl, \n",
    "                           n_boot=10000, \n",
    "                           func=lambda x, y: np.mean(x) - np.mean(y)) \n",
    "    \n",
    "    # Сохраним результат\n",
    "    result = np.sign(bs[0]) == np.sign(bs[1])\n",
    "    \n",
    "    # Добавим результат в список\n",
    "    results_bs3.append(result)\n",
    "    \n",
    "# Выведем процент ошибок 1го рода\n",
    "print(sum(results_bs3) / n_bs3)"
   ]
  },
  {
   "cell_type": "markdown",
   "id": "98bd5319",
   "metadata": {},
   "source": [
    "Bootstrap также показывает низкую мощность, при этом ошибается с приемлемой частотой. Если он или Т-тест покажет разницу между средними, можно быть уверенными, что она есть с высокой долей вероятности, если же не покажет, это может быть как нехватка мощности, так и отсутствие статистически значимых отличий."
   ]
  },
  {
   "cell_type": "code",
   "execution_count": 116,
   "id": "9920ffd5",
   "metadata": {},
   "outputs": [
    {
     "data": {
      "text/plain": [
       "array([-742.33,   63.97])"
      ]
     },
     "execution_count": 116,
     "metadata": {},
     "output_type": "execute_result"
    }
   ],
   "source": [
    "pg.compute_bootci(dist_a.revenue, \n",
    "                  dist_b.revenue, \n",
    "                  n_boot=10000, \n",
    "                  func=lambda x, y: np.mean(x) - np.mean(y))"
   ]
  },
  {
   "cell_type": "markdown",
   "id": "7cf10f14",
   "metadata": {},
   "source": [
    "0 входит в наш диапазон, а это значит, что у нас нет оснований отклонить нулевую гипотезу и признать отличия между средними статистически значимыми."
   ]
  },
  {
   "cell_type": "markdown",
   "id": "ab43b354",
   "metadata": {},
   "source": [
    "Посмотрим, как поведут себя тесты с ARPU, там выборки значительно больше, поэтому возможно и тесты будут работать лучше.\n",
    "Начнем с Т-теста."
   ]
  },
  {
   "cell_type": "code",
   "execution_count": 117,
   "id": "adf389d4",
   "metadata": {},
   "outputs": [],
   "source": [
    "# Сохраним группы в переменные\n",
    "\n",
    "ga = ab_df[ab_df.testgroup == 'a'].revenue\n",
    "gb = ab_df[ab_df.testgroup == 'b'].revenue"
   ]
  },
  {
   "cell_type": "code",
   "execution_count": 118,
   "id": "d0d8fc63",
   "metadata": {},
   "outputs": [],
   "source": [
    "# Рассчитаем d Коэна\n",
    "\n",
    "d3 = (gb.mean() - ga.mean()) / \\\n",
    "     np.sqrt((np.std(gb) ** 2 + np.std(ga) ** 2) / 2)"
   ]
  },
  {
   "cell_type": "code",
   "execution_count": 119,
   "id": "adefbd06",
   "metadata": {},
   "outputs": [
    {
     "data": {
      "text/plain": [
       "0.09564097379603402"
      ]
     },
     "execution_count": 119,
     "metadata": {},
     "output_type": "execute_result"
    }
   ],
   "source": [
    "# Проверяем мощность\n",
    "\n",
    "pg.power_ttest2n(ga.shape[0], \n",
    "                 gb.shape[0], \n",
    "                 d=d3, \n",
    "                 alpha=0.05)"
   ]
  },
  {
   "cell_type": "markdown",
   "id": "0441e28c",
   "metadata": {},
   "source": [
    "У Т-теста результаты еще хуже. У Манна-Уитни вероятно будут тоже, т.к. подавляющее большинство значений в группах - это нули."
   ]
  },
  {
   "cell_type": "code",
   "execution_count": 120,
   "id": "c46e391f",
   "metadata": {},
   "outputs": [],
   "source": [
    "# Посчитаем разницу распределений\n",
    "\n",
    "diff_4 = gb.mean() - ga.mean()"
   ]
  },
  {
   "cell_type": "code",
   "execution_count": 121,
   "id": "9f56c2bd",
   "metadata": {},
   "outputs": [],
   "source": [
    "# Сместим B для симуляции\n",
    "\n",
    "gb_equal = gb - diff_4"
   ]
  },
  {
   "cell_type": "code",
   "execution_count": 122,
   "id": "75fb7502",
   "metadata": {},
   "outputs": [
    {
     "name": "stderr",
     "output_type": "stream",
     "text": [
      "100%|████████████████████████████████████████████████████████████████████████████████████| 1000/1000 [20:21<00:00,  1.22s/it]"
     ]
    },
    {
     "name": "stdout",
     "output_type": "stream",
     "text": [
      "1.0\n"
     ]
    },
    {
     "name": "stderr",
     "output_type": "stream",
     "text": [
      "\n"
     ]
    }
   ],
   "source": [
    "# Тенденция к ошибкам 1го рода\n",
    "\n",
    "# Зададим кол-во симуляций\n",
    "n_mw3 = 1000\n",
    "\n",
    "# Создадим список для сбора результатов\n",
    "results_mw3 = []\n",
    "\n",
    "# Напишем цикл\n",
    "for _ in tqdm(range(n_mw3)):\n",
    "    \n",
    "    # Сгенерируем распределения\n",
    "    # Соберем значения и их частоту\n",
    "    vc_a = ga.value_counts(normalize=True) \\\n",
    "             .reset_index() \n",
    "    vc_b = gb_equal.value_counts(normalize=True) \\\n",
    "                   .reset_index()     \n",
    "    \n",
    "    # Сформируем списки со значениями и частотами\n",
    "    va = vc_a['index'].to_list()\n",
    "    vb = vc_b['index'].to_list()\n",
    "    fa = vc_a.revenue.to_list()\n",
    "    fb = vc_b.revenue.to_list()\n",
    "    \n",
    "    # Создадим распределения\n",
    "    da = ss.rv_discrete(name='da', values=(va, fa))\n",
    "    db = ss.rv_discrete(name='db', values=(vb, fb))\n",
    "    \n",
    "    # Сгенерируем распредения\n",
    "    dal = da.rvs(size=len(ga))\n",
    "    dbl = db.rvs(size=len(gb))\n",
    "    \n",
    "    # Проведем тест\n",
    "    result = ss.mannwhitneyu(dal, dbl)[1] < 0.05\n",
    "    \n",
    "    # Добавим результат в список\n",
    "    results_mw3.append(result)\n",
    "    \n",
    "# Выведем процент ошибок 1го рода\n",
    "print(sum(results_mw3) / n_mw3)"
   ]
  },
  {
   "cell_type": "markdown",
   "id": "a54a146f",
   "metadata": {},
   "source": [
    "Мы оказались правы. Посмотрим на Bootstrap."
   ]
  },
  {
   "cell_type": "code",
   "execution_count": 123,
   "id": "9c44ba61",
   "metadata": {},
   "outputs": [
    {
     "name": "stderr",
     "output_type": "stream",
     "text": [
      "100%|██████████████████████████████████████████████████████████████████████████████████████| 100/100 [17:01<00:00, 10.22s/it]"
     ]
    },
    {
     "name": "stdout",
     "output_type": "stream",
     "text": [
      "0.08\n"
     ]
    },
    {
     "name": "stderr",
     "output_type": "stream",
     "text": [
      "\n"
     ]
    }
   ],
   "source": [
    "# Мощность Bootstrap\n",
    "\n",
    "# Зададим кол-во симуляций\n",
    "n_bs3 = 100\n",
    "\n",
    "# Создадим список для сбора результатов\n",
    "results_bs3 = []\n",
    "\n",
    "# Напишем цикл\n",
    "for _ in tqdm(range(n_bs3)):\n",
    "    \n",
    "    # Сгенерируем распределения\n",
    "    # Соберем значения и их частоту\n",
    "    vc_a = ga.value_counts(normalize=True) \\\n",
    "             .reset_index() \n",
    "    vc_b = gb.value_counts(normalize=True) \\\n",
    "             .reset_index()     \n",
    "    \n",
    "    # Сформируем списки со значениями и частотами\n",
    "    va = vc_a['index'].to_list()\n",
    "    vb = vc_b['index'].to_list()\n",
    "    fa = vc_a.revenue.to_list()\n",
    "    fb = vc_b.revenue.to_list()\n",
    "    \n",
    "    # Создадим распределения\n",
    "    da = ss.rv_discrete(name='da', values=(va, fa))\n",
    "    db = ss.rv_discrete(name='db', values=(vb, fb))\n",
    "    \n",
    "    # Сгенерируем распредения\n",
    "    dal = da.rvs(size=10000)\n",
    "    dbl = db.rvs(size=10000)\n",
    "    \n",
    "    # Проведем тест\n",
    "    bs = pg.compute_bootci(dal, \n",
    "                           dbl, \n",
    "                           n_boot=10000, \n",
    "                           func=lambda x, y: np.mean(x) - np.mean(y)) \n",
    "    \n",
    "    # Сохраним результат\n",
    "    result = np.sign(bs[0]) == np.sign(bs[1])\n",
    "    \n",
    "    # Добавим результат в список\n",
    "    results_bs3.append(result)\n",
    "    \n",
    "# Выведем процент ошибок 1го рода\n",
    "print(sum(results_bs3) / n_bs3)"
   ]
  },
  {
   "cell_type": "markdown",
   "id": "ab9db123",
   "metadata": {},
   "source": [
    "Bootstrap демонстрирует низкую мощность."
   ]
  },
  {
   "cell_type": "markdown",
   "id": "8fb389c9",
   "metadata": {},
   "source": [
    "С ARPU тесты ведут себя еще хуже, чем с ARPPU.\n",
    "\n",
    "Попробуем прологарифмировать наши распределения, чтобы повысить эффективность Т-теста."
   ]
  },
  {
   "cell_type": "code",
   "execution_count": 124,
   "id": "84b59fc3",
   "metadata": {},
   "outputs": [],
   "source": [
    "# Сохраним прологарифмированные распределения\n",
    "\n",
    "lda = np.log(dist_a.revenue)\n",
    "ldb = np.log(dist_b.revenue)"
   ]
  },
  {
   "cell_type": "code",
   "execution_count": 125,
   "id": "68737d4c",
   "metadata": {},
   "outputs": [],
   "source": [
    "# Рассчитаем d Коэна\n",
    "\n",
    "d4 = (ldb.mean() - lda.mean()) / \\\n",
    "     np.sqrt((np.std(ldb) ** 2 + np.std(lda) ** 2) / 2)"
   ]
  },
  {
   "cell_type": "code",
   "execution_count": 126,
   "id": "28e73e21",
   "metadata": {},
   "outputs": [
    {
     "data": {
      "text/plain": [
       "1.0"
      ]
     },
     "execution_count": 126,
     "metadata": {},
     "output_type": "execute_result"
    }
   ],
   "source": [
    "# Проверяем мощность\n",
    "\n",
    "pg.power_ttest2n(dist_a.shape[0], \n",
    "                 dist_b.shape[0], \n",
    "                 d=d4, \n",
    "                 alpha=0.05)"
   ]
  },
  {
   "cell_type": "code",
   "execution_count": 127,
   "id": "62d04a6e",
   "metadata": {},
   "outputs": [],
   "source": [
    "# Посчитаем разницу распределений\n",
    "\n",
    "diff_5 = ldb.mean() - lda.mean()"
   ]
  },
  {
   "cell_type": "code",
   "execution_count": 128,
   "id": "44459acd",
   "metadata": {},
   "outputs": [],
   "source": [
    "# Сместим B для симуляции\n",
    "\n",
    "ldb_equal = ldb - diff_5"
   ]
  },
  {
   "cell_type": "code",
   "execution_count": 129,
   "id": "af2fe683",
   "metadata": {},
   "outputs": [
    {
     "name": "stderr",
     "output_type": "stream",
     "text": [
      "100%|████████████████████████████████████████████████████████████████████████████████████| 1000/1000 [00:16<00:00, 61.12it/s]"
     ]
    },
    {
     "name": "stdout",
     "output_type": "stream",
     "text": [
      "0.057\n"
     ]
    },
    {
     "name": "stderr",
     "output_type": "stream",
     "text": [
      "\n"
     ]
    }
   ],
   "source": [
    "# Ошибки 1го рода\n",
    "\n",
    "# Тенденция к ошибкам 1го рода\n",
    "\n",
    "# Зададим кол-во симуляций\n",
    "n_tt2 = 1000\n",
    "\n",
    "# Создадим список для сбора результатов\n",
    "results_tt2 = []\n",
    "\n",
    "# Напишем цикл\n",
    "for _ in tqdm(range(n_tt2)):\n",
    "    \n",
    "    # Сгенерируем распределения\n",
    "    # Соберем значения и их частоту\n",
    "    vc_a = lda.value_counts(normalize=True) \\\n",
    "              .reset_index() \n",
    "    vc_b = ldb_equal.value_counts(normalize=True) \\\n",
    "                    .reset_index()     \n",
    "    \n",
    "    # Сформируем списки со значениями и частотами\n",
    "    va = vc_a['index'].to_list()\n",
    "    vb = vc_b['index'].to_list()\n",
    "    fa = vc_a.revenue.to_list()\n",
    "    fb = vc_b.revenue.to_list()\n",
    "    \n",
    "    # Создадим распределения\n",
    "    da = ss.rv_discrete(name='da', values=(va, fa))\n",
    "    db = ss.rv_discrete(name='db', values=(vb, fb))\n",
    "    \n",
    "    # Сгенерируем распредения\n",
    "    dal = da.rvs(size=len(dist_a))\n",
    "    dbl = db.rvs(size=len(dist_b))\n",
    "    \n",
    "    # Проведем тест\n",
    "    result = ss.ttest_ind(dal, dbl, equal_var=False)[1] < 0.05\n",
    "    \n",
    "    # Добавим результат в список\n",
    "    results_tt2.append(result)\n",
    "    \n",
    "# Выведем процент ошибок 1го рода\n",
    "print(sum(results_tt2) / n_tt2)"
   ]
  },
  {
   "cell_type": "markdown",
   "id": "4d26842c",
   "metadata": {},
   "source": [
    "Логарифмирование ожидаемо помогло. Причем настолько, что и мощность, и процент ошибок 1го рода вышли на приемлемый уровень.\n",
    "\n",
    "Проведем тест для логарифмов доходов на платящего клиента."
   ]
  },
  {
   "cell_type": "code",
   "execution_count": 130,
   "id": "b3e290e1",
   "metadata": {},
   "outputs": [
    {
     "data": {
      "text/plain": [
       "0.0"
      ]
     },
     "execution_count": 130,
     "metadata": {},
     "output_type": "execute_result"
    }
   ],
   "source": [
    "# Т-тест Уэлча логарифмов \n",
    "\n",
    "ss.ttest_ind(lda, ldb, equal_var=False)[1]"
   ]
  },
  {
   "cell_type": "markdown",
   "id": "60f1159d",
   "metadata": {},
   "source": [
    "При p-value < 0.05 мы отклоняем нулевую гипотезу и принимаем альтернативную о том, что логарифмы доходов на платящего клиента статистически значимо отличаются.\n",
    "\n",
    "Мы вновь приходим к точке, как во 2м варианте, у нас лучше конверсия в группе А и выше ARPPU в группе B. Чтобы сделать выбор, посмотрим на прологарифмированную результирующую ARPU."
   ]
  },
  {
   "cell_type": "code",
   "execution_count": 131,
   "id": "81c6cecb",
   "metadata": {},
   "outputs": [],
   "source": [
    "# Сохраним прологарифмированные распределения,\n",
    "# прибавив единицу, тк логарифм 0 это -inf\n",
    "\n",
    "lga = np.log(ga + 1)\n",
    "lgb = np.log(gb + 1)"
   ]
  },
  {
   "cell_type": "code",
   "execution_count": 132,
   "id": "2b376fea",
   "metadata": {},
   "outputs": [],
   "source": [
    "# рассчитаем d Коэна\n",
    "\n",
    "d5 = (lgb.mean() - lga.mean()) / \\\n",
    "     np.sqrt((np.std(lgb) ** 2 + np.std(lga) ** 2) / 2)"
   ]
  },
  {
   "cell_type": "code",
   "execution_count": 133,
   "id": "9a6bee29",
   "metadata": {},
   "outputs": [
    {
     "data": {
      "text/plain": [
       "1.0"
      ]
     },
     "execution_count": 133,
     "metadata": {},
     "output_type": "execute_result"
    }
   ],
   "source": [
    "# Проверяем мощность\n",
    "\n",
    "pg.power_ttest2n(ga.shape[0], \n",
    "                 gb.shape[0], \n",
    "                 d=d5, \n",
    "                 alpha=0.05)"
   ]
  },
  {
   "cell_type": "code",
   "execution_count": 134,
   "id": "2bf61804",
   "metadata": {},
   "outputs": [],
   "source": [
    "# Посчитаем разницу распределений\n",
    "\n",
    "diff_6 = lgb.mean() - lga.mean()"
   ]
  },
  {
   "cell_type": "code",
   "execution_count": 135,
   "id": "42f3fab7",
   "metadata": {},
   "outputs": [],
   "source": [
    "# Сместим B для симуляции\n",
    "\n",
    "lgb_equal = lgb - diff_6"
   ]
  },
  {
   "cell_type": "code",
   "execution_count": 136,
   "id": "f5181e45",
   "metadata": {},
   "outputs": [
    {
     "name": "stderr",
     "output_type": "stream",
     "text": [
      "100%|████████████████████████████████████████████████████████████████████████████████████| 1000/1000 [15:25<00:00,  1.08it/s]"
     ]
    },
    {
     "name": "stdout",
     "output_type": "stream",
     "text": [
      "0.05\n"
     ]
    },
    {
     "name": "stderr",
     "output_type": "stream",
     "text": [
      "\n"
     ]
    }
   ],
   "source": [
    "# Ошибки 1го рода\n",
    "\n",
    "# Тенденция к ошибкам 1го рода\n",
    "\n",
    "# Зададим кол-во симуляций\n",
    "n_tt3 = 1000\n",
    "\n",
    "# Создадим список для сбора результатов\n",
    "results_tt3 = []\n",
    "\n",
    "# Напишем цикл\n",
    "for _ in tqdm(range(n_tt3)):\n",
    "    \n",
    "    # Сгенерируем распределения\n",
    "    # Соберем значения и их частоту\n",
    "    vc_a = lga.value_counts(normalize=True) \\\n",
    "              .reset_index() \n",
    "    vc_b = lgb_equal.value_counts(normalize=True) \\\n",
    "                    .reset_index()     \n",
    "    \n",
    "    # Сформируем списки со значениями и частотами\n",
    "    va = vc_a['index'].to_list()\n",
    "    vb = vc_b['index'].to_list()\n",
    "    fa = vc_a.revenue.to_list()\n",
    "    fb = vc_b.revenue.to_list()\n",
    "    \n",
    "    # Создадим распределения\n",
    "    da = ss.rv_discrete(name='da', values=(va, fa))\n",
    "    db = ss.rv_discrete(name='db', values=(vb, fb))\n",
    "    \n",
    "    # Сгенерируем распредения\n",
    "    dal = da.rvs(size=len(ga))\n",
    "    dbl = db.rvs(size=len(gb))\n",
    "    \n",
    "    # Проведем тест\n",
    "    result = ss.ttest_ind(dal, dbl, equal_var=False)[1] < 0.05\n",
    "    \n",
    "    # Добавим результат в список\n",
    "    results_tt3.append(result)\n",
    "    \n",
    "# Выведем процент ошибок 1го рода\n",
    "print(sum(results_tt3) / n_tt3)"
   ]
  },
  {
   "cell_type": "markdown",
   "id": "e58bf19c",
   "metadata": {},
   "source": [
    "Мощность и процент ошибок 1го рода на допустимых уровнях, значит можно проводить Т-тест."
   ]
  },
  {
   "cell_type": "code",
   "execution_count": 137,
   "id": "1c0afab4",
   "metadata": {},
   "outputs": [
    {
     "data": {
      "text/plain": [
       "7.314671415006434e-11"
      ]
     },
     "execution_count": 137,
     "metadata": {},
     "output_type": "execute_result"
    }
   ],
   "source": [
    "# Т-тест Уэлча логарифмов \n",
    "\n",
    "ss.ttest_ind(lga, lgb, equal_var=False)[1]"
   ]
  },
  {
   "cell_type": "markdown",
   "id": "f643bda7",
   "metadata": {},
   "source": [
    "При p-value < 0.05 мы отвергаем нулевую гипотезу о равенстве средних логарифмов доходов на клиента и принимаем альтернативную о статистически значимых отличиях между ними."
   ]
  },
  {
   "cell_type": "markdown",
   "id": "fb51d676",
   "metadata": {},
   "source": [
    "### Вариант 3. Итог.\n",
    "Группа А демонстрирует более высокую конверсию, группа B - более высокий ARPPU. \n",
    "\n",
    "Как суммирующая метрика, ARPU демонстрирует, что группа B лучше, чем группа А."
   ]
  },
  {
   "cell_type": "markdown",
   "id": "2590e2d1",
   "metadata": {},
   "source": [
    "# Метрики для оценки тематического события.\n",
    "\n",
    "1. В игре Plants & Gardens каждый месяц проводятся тематические события, ограниченные по времени. В них игроки могут получить уникальные предметы для сада и персонажей, дополнительные монеты или бонусы. Для получения награды требуется пройти ряд уровней за определенное время. С помощью каких метрик можно оценить результаты последнего прошедшего события?\n",
    "\n",
    "2. Предположим, в другом событии мы усложнили механику событий так, что при каждой неудачной попытке выполнения уровня игрок будет откатываться на несколько уровней назад. Изменится ли набор метрик оценки результата? Если да, то как?"
   ]
  },
  {
   "cell_type": "markdown",
   "id": "1c879988",
   "metadata": {},
   "source": [
    "### Метрики 1го варианта.\n",
    "\n",
    "1. **Относительное кол-во активных пользователей.** Делим кол-во активных игроков каждого дня события на среднее кол-во активных игроков в тот же день недели за предшествующий период за рамками событий. Получаем дополнительную долю игроков, привлеченных, возможно, за счет события. Можно поиграть с сезонностью, например, смотреть не дни недели, а 2 группы: будние и выходные с праздниками, в зависимости от нашей сезонности.\n",
    "- Смотрим, как метрика меняется в течение события.\n",
    "- Сравниваем средний приток текущего события и предыдущего за весь период.\n",
    "- Можно сравнить средние притоки первых дней для последних 2х событий. Если сейчас приток выше, значит, возможно, последнее событие понравилось и люди пришли на новое, если же нет, то прошлое скорее не понравилось и новое ажиотажа не вызывает.\n",
    "\n",
    "2. Аналогичные показатели и сравнения для **среднего времени, проведенного в игре в день** (кроме последнего пункта, т.к. для этой метрики его логика не работает).\n",
    "\n",
    "3. **Retention.**\n",
    "- За период проведения события и в течение первой недели после, считать по дням, за нулевой считать 1й вход внутри события для всех пользователей, а не только для новых. Сравнить с аналогичным показателем предыдущих событий.\n",
    "- Сравнить отношение классического Retention 1го дня за период проведения события к среднему за период предшествующий событию. Получим прирост Retention, возможно, за счет события.\n",
    "\n",
    "4. **ARPPU.** \n",
    "- Внутри события по дням. Если событие выстроено по принципу от простых заданий к сложным это особенно актуально. Считаем метрику по дням недели или группам дней в рамках события и считаем отношение к аналогичному показателю за период предшествующий событию. Можно посчитать также соотношение этих 2х значений и сравнить с аналогичным соотношением предыдущего события.\n",
    "- Для более общего понимания - сравнить средние ARPPU за период предшествующий и период события.\n",
    "\n",
    "5. **Конверсия в покупку** (доля пользователей, зашедших в приложение в заданный период, совершивших покупку). Считаем аналогичные ARPPU варианты.\n",
    "\n",
    "6. Все то же самое для **ARPU**, как для результирующей метрики.\n",
    "\n",
    "7. Сравнить **средние оценки**, выставляемые в **Google Play и App Store** во время проведения события, с предшествующим периодом.\n",
    "\n",
    "8. Можно предложить за небольшую дополнительную награду пройти опрос и собрать дополнительную информацию, например, составить **рейтинг удовлетворенности** или что-то подобное, чтобы сравнить его с предыдущим событием.\n",
    "\n",
    "9. Если мы продаем **пропуск события**, то посчитать процент купивших его среди тех, кто заходил в игру в течение первых дней события (чтобы понять скольки дней, нужно знать, как долго идет событие, какая у него структура и проч.), т.к. ближе к концу события пропуск не будут покупать просто потому, что не смогут его реализовать. Если же за покупку пропуска выдаются эксклюзивные награды, то этим можно принебречь и считать процент за весь период. Метрику сравниваем с предыдущими событиями.\n",
    "\n",
    "10. **Средний процент пользователей, которые берутся за выполнение заданий, из общего числа активных юзеров дня за весь период события**. Сравнить процент с прошлыми событиями. Метрика показывает, насколько вообще событие интересно и насколько привлекательными являются награды.\n",
    "\n",
    "11. Среди пользователей события - **какой процент совершает внутриигровые покупки**. Сравнить процент с прошлыми событиями. Метрика показывает, насколько мы стимулируем покупки наградами и сложностью заданий.\n",
    "\n",
    "12. **Какой процент из взявшихся за задание выполняет его, какой процент попыток успешный, какое время в среднем тратиться на выполнение задания среди тех, кто его выполнил.** На основе этих данных мы будем понимать, стоит ли усложнить задание или все ОК, и регулировать время на выполнение заданий.\n",
    "\n",
    "13. **Какие задания и награды собрали больше всего покупок?** Смотрим, какое последнее задание или путь к награде выполнил или выполнял клиент перед покупкой, приписываем покупку к нему. Можно посчитать процент совершивших покупки из общей массы для каждого из заданий/наград и составить рейтинг прибыльности.\n",
    "\n",
    "14. Посчитать для каждого из заданий, **какой процент среди пользователей, не применявших платные возможности, прошел задание и какой среди применявших**. В дальнейшем за выполнение заданий с самым сильным разбросом можно выдавать самые привлекательные награды, а за те, где разницы нет - самые непривлекательные. Разумеется, выбор должен сочетаться и с другими метриками, это просто общая возможная логика.\n",
    "\n",
    "15. **Среднее кол-во полученных наград или прогресс по событию.** Если событие состоит из 100 ступеней, а 99% игроков не доходят и до 20 уровня, есть смысл пересмотреть структуру.\n",
    "\n",
    "Большинство метрик по отдельности не будут показательными или даже могут вводить в заблуждение, поэтому необходимо считать все и анализировать общую картину. Этот набор - это просто идеи, для поиска наиболее качественных метрик нужно значительно больше информации."
   ]
  },
  {
   "cell_type": "markdown",
   "id": "2c2f2afd",
   "metadata": {},
   "source": [
    "### Метрики 2го варианта.\n",
    "\n",
    "На предложенные мной метрики это изменение механики принципиально не влияет, наоборот, этот набор покажет с разных сторон, как это или любое другое изменение повлияет на событие. \n",
    "Но можно добавить еще несколько показателей:\n",
    "1. **На каком сбросе подряд игрок заканчивает сессию в среднем? На каком сбросе в совокупности за всю сессию игрок ее завершает в среднем?** Многих эта система будет сильно тормозить, раздражать и останавливать, важно не переборщить.\n",
    "\n",
    "2. **На каком сбросе подряд совершают покупку в среднем? На каком сбросе в совокупности совершают покупку в среднем?** Есть гипотеза, что сбросы уровней могут стимулировать покупки: игрок стоит на месте, в какой-то момент ему надоедает, и он покупает бустер, чтобы было легче выполнять задания и получить заветную награду.\n",
    "\n",
    "Основной задачей здесь будет найти баланс, сделав схему не слишком сложной, чтобы не отпугнуть игроков, и не слишком легкой, чтобы необходимость совершать внутриигровые покупки не отпала сама собой."
   ]
  }
 ],
 "metadata": {
  "kernelspec": {
   "display_name": "Python 3 (ipykernel)",
   "language": "python",
   "name": "python3"
  },
  "language_info": {
   "codemirror_mode": {
    "name": "ipython",
    "version": 3
   },
   "file_extension": ".py",
   "mimetype": "text/x-python",
   "name": "python",
   "nbconvert_exporter": "python",
   "pygments_lexer": "ipython3",
   "version": "3.9.13"
  }
 },
 "nbformat": 4,
 "nbformat_minor": 5
}
